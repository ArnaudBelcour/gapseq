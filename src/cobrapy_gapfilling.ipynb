{
 "cells": [
  {
   "cell_type": "code",
   "execution_count": 1,
   "metadata": {},
   "outputs": [],
   "source": [
    "from cobra.flux_analysis import gapfill\n",
    "from cobra.flux_analysis.gapfilling import GapFiller\n",
    "from cobra.io import read_sbml_model\n",
    "from cobra.io import write_sbml_model\n",
    "from cobra import Model, Reaction, Metabolite\n",
    "import pandas\n",
    "import sys\n",
    "import re"
   ]
  },
  {
   "cell_type": "code",
   "execution_count": 2,
   "metadata": {
    "scrolled": true
   },
   "outputs": [],
   "source": [
    "def repair_mass_balance(model, delete_unbalanced=True, verbose=False):\n",
    "    mod = model.copy()\n",
    "    Cwrong = 0\n",
    "    Ccorrected = 0\n",
    "    if \"cpd00067_c0\" not in mod.metabolites:\n",
    "        h = Metabolite(id=\"cpd00067_c0\", name=\"H+\", formula=\"H\", charge=1)\n",
    "        mod.add_metabolites(h)\n",
    "    \n",
    "    rea_rm = []\n",
    "    for r in mod.reactions:\n",
    "        if r in mod.exchanges or r.id==\"bio1\":\n",
    "            continue\n",
    "        \n",
    "        mbal = r.check_mass_balance()        \n",
    "        if mbal != {}:         \n",
    "            Cwrong += 1\n",
    "            if \"charge\" in mbal:\n",
    "                miss = mbal[\"charge\"]\n",
    "            else:\n",
    "                if verbose:\n",
    "                    print \"could not be fixed\"\n",
    "                    print \"\\t\",r.id, r.name, r.reaction\n",
    "                    print \"\\t\",mbal\n",
    "                if delete_unbalanced:\n",
    "                    rea_rm.append(r)\n",
    "                    #mod.remove_reactions(r)\n",
    "                continue\n",
    "            if miss != round(miss): # check if integer\n",
    "                print \"error in\", r.id, \"mass imbalance:\", mbal\n",
    "                if delete_unbalanced:\n",
    "                    rea_rm.append(r)\n",
    "                    #mod.remove_reactions(r)\n",
    "                continue\n",
    "            h = mod.metabolites.get_by_id(\"cpd00067_c0\")\n",
    "            if miss < 0:\n",
    "                r.add_metabolites({h: -miss})\n",
    "            if miss > 0:\n",
    "                r.subtract_metabolites({h: miss})\n",
    "            if r.check_mass_balance() != {}:\n",
    "                if verbose:\n",
    "                    print r.id, r.name, r.reaction\n",
    "                    print \"old:\",mbal, \"\\tnew:\",r.check_mass_balance()\n",
    "                if delete_unbalanced:\n",
    "                    rea_rm.append(r)\n",
    "                    #mod.remove_reactions(r)\n",
    "            else:\n",
    "                if verbose:\n",
    "                    print r.id, \"fixed\"\n",
    "                Ccorrected += 1\n",
    "    mod.remove_reactions(rea_rm)\n",
    "    mod.repair()\n",
    "    print \"Unbalanced reactions:\", Cwrong, \"\\tCould be corrected:\", Ccorrected, \"\\tRemoved reactions:\", len(model.reactions)-len(mod.reactions)\n",
    "    return(mod)"
   ]
  },
  {
   "cell_type": "code",
   "execution_count": 3,
   "metadata": {
    "scrolled": true
   },
   "outputs": [
    {
     "name": "stderr",
     "output_type": "stream",
     "text": [
      "/usr/lib/python2.7/dist-packages/IPython/core/interactiveshell.py:2718 \u001b[1;31mDtypeWarning\u001b[0m: Columns (14,15) have mixed types. Specify dtype option on import or set low_memory=False.\n"
     ]
    },
    {
     "name": "stdout",
     "output_type": "stream",
     "text": [
      "Unbalanced reactions: 49 \tCould be corrected: 49 \tRemoved reactions: 0\n"
     ]
    }
   ],
   "source": [
    "seedrDB = pandas.read_csv(\"/home/jo/uni/gapseq/dat/seed_reactions.tsv\", sep=\"\\t\")\n",
    "seedmDB = pandas.read_csv(\"/home/jo/uni/gapseq/dat/seed_metabolites.tsv\", sep=\"\\t\")\n",
    "mod = repair_mass_balance(read_sbml_model(\"/home/jo/uni/gapseq/dat/myb71.xml\"), verbose=False)\n",
    "with open(\"/home/jo/uni/gapseq/newReactions.lst\") as f:\n",
    "#with open(\"/home/jo/uni/gapseq/newReactions5.lst\") as f:\n",
    "    lines = f.read()\n",
    "newR = lines.split(\" \")"
   ]
  },
  {
   "cell_type": "code",
   "execution_count": 14,
   "metadata": {},
   "outputs": [
    {
     "name": "stdout",
     "output_type": "stream",
     "text": [
      "Consider 577 reactions\n",
      "113 reactions already in the model\n",
      "31 removed deprecated reactions\n",
      "Unbalanced reactions: 117 \tCould be corrected: 0 \tRemoved reactions: 117\n",
      "Remaining reaction in reference database: 316\n"
     ]
    }
   ],
   "source": [
    "#\n",
    "# Create reference model with reactions pool\n",
    "#\n",
    "\n",
    "refdb  = seedrDB.loc[seedrDB['id'].isin(newR)]\n",
    "refmod = Model(\"reaction_database\")\n",
    "Rmod   = [re.sub(\"_.*$\", \"\", r.id) for r in mod.reactions]\n",
    "print \"Consider\", len(refdb.index), \"reactions\"\n",
    "Cold = 0\n",
    "Calready = 0\n",
    "for i,row in refdb.iterrows():\n",
    "    #print row[\"code\"]\n",
    "    rid = row[\"id\"]\n",
    "    if row[\"is_obsolete\"] == 1: # do not add old reactions\n",
    "        Cold += 1\n",
    "        continue\n",
    "    elif rid in Rmod:\n",
    "        Calready += 1\n",
    "        continue\n",
    "    r = Reaction(rid)\n",
    "    refmod.add_reaction(r)\n",
    "    rstr = row[\"equation\"]\n",
    "    #rstr = row[\"code\"]\n",
    "    rstr = rstr.replace(\"[0]\", \"_c0\").replace(\"[1]\", \"_e0\").replace(\"[3]\", \"_p0\")\n",
    "    r.build_reaction_from_string(rstr, verbose=False)\n",
    "    #r.reaction = rstr\n",
    "for m in refmod.metabolites:\n",
    "    mid =re.sub(\"_.*$\",\"\", m.id)\n",
    "    hit = seedmDB.loc[seedmDB[\"id\"]==mid]\n",
    "    m.name = hit[\"name\"].values[0]\n",
    "    m.formula = hit[\"formula\"].values[0]\n",
    "    m.charge = hit[\"charge\"].values[0]\n",
    "\n",
    "print Calready, \"reactions already in the model\"\n",
    "print Cold, \"removed deprecated reactions\"\n",
    "refmod = repair_mass_balance(refmod)\n",
    "print len(refmod.reactions), \"remaining reaction in reference database:\", \n",
    "\n",
    "# equation: Unbalanced reactions: 425 \tCould be corrected: 4 \tRemoved reactions: 421\n",
    "# code: Unbalanced reactions: 1369 \tCould be corrected: 949 \tRemoved reactions: 420"
   ]
  },
  {
   "cell_type": "code",
   "execution_count": 13,
   "metadata": {},
   "outputs": [
    {
     "data": {
      "text/plain": [
       "['rxn00351',\n",
       " 'rxn07431',\n",
       " 'rxn00836',\n",
       " 'rxn00390',\n",
       " 'rxn08180',\n",
       " 'rxn00423',\n",
       " 'rxn00364',\n",
       " 'rxn05561',\n",
       " 'rxn03408']"
      ]
     },
     "execution_count": 13,
     "metadata": {},
     "output_type": "execute_result"
    }
   ],
   "source": [
    "Rmod   = [re.sub(\"_.*$\", \"\", r.id) for r in mod.reactions]\n",
    "Rmod[1:10]\n",
    "#refmod.reactions[1:10]"
   ]
  },
  {
   "cell_type": "code",
   "execution_count": 15,
   "metadata": {
    "scrolled": true
   },
   "outputs": [
    {
     "name": "stdout",
     "output_type": "stream",
     "text": [
      "0\n"
     ]
    }
   ],
   "source": [
    "Cerror = 0\n",
    "test = refmod\n",
    "for r in test.reactions:\n",
    "    if r in test.exchanges or r.id==\"bio1\":\n",
    "            continue\n",
    "    if r.check_mass_balance() != {}:\n",
    "        Cerror += 1\n",
    "        r.remove_from_model()\n",
    "print Cerror"
   ]
  },
  {
   "cell_type": "code",
   "execution_count": 16,
   "metadata": {},
   "outputs": [],
   "source": [
    "def set_medium(model, medium):\n",
    "    mod = model.copy()\n",
    "    for ex in mod.exchanges:\n",
    "        ex.lower_bound=0\n",
    "\n",
    "    for m in medium: # set medium\n",
    "        ex = \"EX_\"+m+\"_e0\"\n",
    "        #ex = m\n",
    "        if ex in mod.reactions:\n",
    "            mod.reactions.get_by_id(ex).lower_bound=-1000\n",
    "        else:\n",
    "            print \"compound not found in model:\", m\n",
    "    return(mod)"
   ]
  },
  {
   "cell_type": "code",
   "execution_count": 17,
   "metadata": {
    "scrolled": false
   },
   "outputs": [
    {
     "name": "stdout",
     "output_type": "stream",
     "text": [
      "compound not found in model: cpd10515\n",
      "compound not found in model: cpd11574\n",
      "0.0 cpd00060_c0 L_Methionine_c0\n",
      "\t => failed: <class 'cobra.exceptions.Infeasible'>\n",
      "0.0 cpd00084_c0 L_Cysteine_c0\n",
      "\t => failed: <class 'cobra.exceptions.Infeasible'>\n",
      "0.0 cpd00066_c0 L_Phenylalanine_c0\n",
      "\t => could be fixed: rxn01256\n",
      "0.0 cpd00107_c0 L_Leucine_c0\n",
      "\t => could be fixed: rxn02186\n",
      "0.0 cpd00069_c0 L_Tyrosine_c0\n",
      "\t => could be fixed: rxn01256\n",
      "0.0 cpd00322_c0 L_Isoleucine_c0\n",
      "\t => could be fixed: rxn33937\n",
      "0.0 cpd00039_c0 L_Lysine_c0\n",
      "\t => failed: <class 'cobra.exceptions.Infeasible'>\n",
      "0.0 cpd00156_c0 L_Valine_c0\n",
      "\t => could be fixed: rxn02186\n",
      "\n",
      "Total compounds: 19 \t can be produced: 11 \t could be fixed 5 \t altogether: 84.2 %  (before: 57.9 % )\n"
     ]
    }
   ],
   "source": [
    "#\n",
    "# Iterate by biomass components and try to produce components step-wise by minimal medium only\n",
    "# => if biomass component could not be produced => gapfilling\n",
    "#\n",
    "\n",
    "#richmed = [\"EX_cpd00001_e0\", \"EX_cpd00007_e0\",\"EX_cpd00009_e0\", \"EX_cpd00018_e0\", \"EX_cpd00023_e0\", \"EX_cpd00027_e0\", \"EX_cpd00028_e0\", \"EX_cpd00030_e0\", \"EX_cpd00033_e0\", \"EX_cpd00034_e0\", \"EX_cpd00035_e0\", \"EX_cpd00039_e0\", \"EX_cpd00041_e0\", \"EX_cpd00046_e0\", \"EX_cpd00048_e0\", \"EX_cpd00051_e0\", \"EX_cpd00054_e0\", \"EX_cpd00058_e0\", \"EX_cpd00060_e0\", \"EX_cpd00063_e0\", \"EX_cpd00065_e0\", \"EX_cpd00066_e0\", \"EX_cpd00067_e0\", \"EX_cpd00069_e0\", \"EX_cpd00084_e0\", \"EX_cpd00091_e0\", \"EX_cpd00092_e0\", \"EX_cpd00099_e0\", \"EX_cpd00107_e0\", \"EX_cpd00119_e0\", \"EX_cpd00126_e0\", \"EX_cpd00129_e0\", \"EX_cpd00149_e0\", \"EX_cpd00156_e0\", \"EX_cpd00161_e0\", \"EX_cpd00182_e0\", \"EX_cpd00184_e0\", \"EX_cpd00205_e0\", \"EX_cpd00215_e0\", \"EX_cpd00218_e0\", \"EX_cpd00219_e0\", \"EX_cpd00220_e0\", \"EX_cpd00226_e0\", \"EX_cpd00239_e0\", \"EX_cpd00246_e0\", \"EX_cpd00249_e0\", \"EX_cpd00254_e0\", \"EX_cpd00311_e0\", \"EX_cpd00322_e0\", \"EX_cpd00381_e0\", \"EX_cpd00383_e0\", \"EX_cpd00393_e0\", \"EX_cpd00438_e0\", \"EX_cpd00531_e0\", \"EX_cpd00541_e0\", \"EX_cpd00644_e0\", \"EX_cpd00654_e0\", \"EX_cpd00793_e0\", \"EX_cpd00971_e0\", \"EX_cpd01012_e0\", \"EX_cpd01048_e0\", \"EX_cpd03424_e0\", \"EX_cpd10515_e0\", \"EX_cpd10516_e0\", \"EX_cpd11595_e0\"]\n",
    "minmed = [\"cpd00027\", \"cpd00007\", \"cpd00001\", # glc, o2, h2o\n",
    "          \"cpd00013\", # nh3\n",
    "          # minerals\n",
    "          \"cpd00009\", \"cpd00030\", \"cpd00034\", \"cpd00058\", \"cpd00063\", \"cpd00067\", \"cpd00099\", \"cpd00205\", \"cpd00254\", \"cpd10515\", \"cpd00971\", \"cpd01012\", \"cpd10516\", \"cpd11574\"]\n",
    "\n",
    "modmin = set_medium(mod, minmed)\n",
    "modnew = mod.copy()\n",
    "\n",
    "\n",
    "    \n",
    "Call=0; Cwork=0; Cfix=0\n",
    "fixLater = []\n",
    "fail = []\n",
    "relMet = [\"cpd00288_c0\"]\n",
    "allMet = mod.reactions.bio1.reactants + [modmin.metabolites.get_by_id(m) for m in relMet]\n",
    "bioaa = [m for m in mod.metabolites if m.name.startswith(\"L_\") and m in mod.reactions.bio1.metabolites]\n",
    "for m in bioaa:\n",
    "#for m in allMet:\n",
    "    Call += 1\n",
    "    modtmp = modmin.copy()\n",
    "    modtmp.objective = modtmp.add_boundary(m, type='demand')\n",
    "    obj = modtmp.slim_optimize()\n",
    "    if obj > 0:\n",
    "        #print \"\\t => could be produced:\"\n",
    "        Cwork += 1\n",
    "    else:\n",
    "        # gapfilling\n",
    "        print obj, m.id, m.name\n",
    "        try:\n",
    "            gapsol = gapfill(modtmp, refmod) # integer_threshold=1e-06\n",
    "        except RuntimeError:\n",
    "            print \"\\t => Runtime error: lowering the integer_threshold?\"\n",
    "            fixLater.append(m)\n",
    "            continue\n",
    "        except:\n",
    "            print \"\\t => failed:\", sys.exc_info()[0]\n",
    "            fail.append(m)\n",
    "            continue\n",
    "        if len(gapsol[0]) > 0:\n",
    "            Cfix += 1\n",
    "            print \"\\t => could be fixed:\", \",\".join([r.id for r in gapsol[0]])\n",
    "            modnew.add_reactions([r for r in gapsol[0] if r not in modnew.reactions])\n",
    "print \"\\nTotal compounds:\", Call, \"\\t can be produced:\", Cwork, \"\\t could be fixed\", Cfix, \"\\t altogether:\", round(100*float(Cwork+Cfix)/Call,1), \"%\", \" (before:\",round(100*float(Cwork)/Call,1),\"% )\""
   ]
  },
  {
   "cell_type": "code",
   "execution_count": null,
   "metadata": {},
   "outputs": [],
   "source": [
    "# Total compounds: 77 \t can be produced: 36 \t could be fixed 11 \t altogether: 61.0 %  (before: 46.8 % )\n",
    "\n",
    "# Total compounds: 76 \t can be produced: 36 \t could be fixed 29 \t altogether: 85.5 %  (before: 47.4 % )\n",
    "# Total compounds: 76 \t can be produced: 36 \t could be fixed 18 \t altogether: 71.1 %  (before: 47.4 % )"
   ]
  },
  {
   "cell_type": "code",
   "execution_count": 43,
   "metadata": {},
   "outputs": [
    {
     "name": "stdout",
     "output_type": "stream",
     "text": [
      "Still integer_threshold?\n",
      "Still integer_threshold?\n",
      "Still integer_threshold?\n",
      "Still integer_threshold?\n",
      "Still integer_threshold?\n"
     ]
    }
   ],
   "source": [
    "for m in fixLater:\n",
    "    modtmp = modmin.copy()\n",
    "    modtmp.objective = modtmp.add_boundary(m, type='demand')\n",
    "    try:\n",
    "        #gapsol = gapfill(modtmp, refmod) # integer_threshold=1e-06\n",
    "        gapsol  = GapFiller(modtmp, refmod, integer_threshold=1e-16).fill()\n",
    "    except RuntimeError:\n",
    "            print m.id, m.name, \"... no solution found ... still integer_threshold?\""
   ]
  },
  {
   "cell_type": "code",
   "execution_count": 18,
   "metadata": {
    "scrolled": true
   },
   "outputs": [
    {
     "name": "stdout",
     "output_type": "stream",
     "text": [
      "IN FLUXES             OUT FLUXES            OBJECTIVES\n",
      "--------------------  --------------------  ------------\n",
      "cpd00027_e0    1e+03  cpd00001_e0    1e+03  bio1  235\n",
      "cpd00073_e0    1e+03  cpd00011_e0    1e+03\n",
      "cpd00226_e0    1e+03  cpd00013_e0    1e+03\n",
      "cpd00276_e0    1e+03  cpd00035_e0    1e+03\n",
      "cpd00307_e0    1e+03  cpd00067_e0    1e+03\n",
      "cpd15560_e0  875      cpd00588_e0    1e+03\n",
      "cpd00080_e0  857      cpd00122_e0  976\n",
      "cpd00794_e0  565      cpd00092_e0  951\n",
      "cpd00054_e0  429      cpd00309_e0  928\n",
      "cpd00138_e0  362      cpd15561_e0  875\n",
      "cpd00129_e0  360      cpd00036_e0  815\n",
      "cpd00159_e0  335      cpd00009_e0  667\n",
      "cpd17041_c0  235      cpd00033_e0  441\n",
      "cpd17042_c0  235      cpd11416_c0  235\n",
      "cpd17043_c0  235      cpd00117_e0  167\n",
      "cpd00039_e0   72.9    cpd00007_e0   67.2\n",
      "cpd15605_e0   36.3\n",
      "cpd11590_e0   30.8\n",
      "cpd15606_e0   29.1\n",
      "cpd01080_e0   20\n",
      "cpd00797_e0   20\n",
      "cpd11584_e0   18.6\n",
      "cpd01188_e0   11.1\n",
      "cpd00106_e0   10.1\n",
      "cpd00268_e0   10\n",
      "cpd10516_e0    2.91\n",
      "cpd11606_e0    2.18\n",
      "cpd00220_e0    1.45\n",
      "cpd00305_e0    0.727\n",
      "cpd00030_e0    0.727\n",
      "cpd00034_e0    0.727\n",
      "cpd00048_e0    0.727\n",
      "cpd00058_e0    0.727\n",
      "cpd00149_e0    0.727\n",
      "cpd00205_e0    0.727\n",
      "cpd00254_e0    0.727\n",
      "cpd00264_e0    0.727\n",
      "cpd00063_e0    0.727\n",
      "cpd00099_e0    0.727\n",
      "cpd00118_e0    0.727\n"
     ]
    }
   ],
   "source": [
    "#modnew = read_sbml_model(\"/home/jo/uni/gapseq/myb71_gapfilled.xml\")\n",
    "modnew.summary()\n",
    "write_sbml_model(modnew, filename=\"/home/jo/uni/gapseq/myb71_gapfilled.xml\")"
   ]
  },
  {
   "cell_type": "code",
   "execution_count": 34,
   "metadata": {
    "scrolled": true
   },
   "outputs": [
    {
     "name": "stdout",
     "output_type": "stream",
     "text": [
      "compound not found in model: cpd10515\n",
      "compound not found in model: cpd11574\n",
      "-1.29811380269e-12\n"
     ]
    },
    {
     "ename": "Infeasible",
     "evalue": "gapfilling optimization failed",
     "output_type": "error",
     "traceback": [
      "\u001b[0;31m---------------------------------------------------------------------------\u001b[0m",
      "\u001b[0;31mInfeasible\u001b[0m                                Traceback (most recent call last)",
      "\u001b[0;32m<ipython-input-34-2da15661a204>\u001b[0m in \u001b[0;36m<module>\u001b[0;34m()\u001b[0m\n\u001b[1;32m      3\u001b[0m \u001b[0mmodtmp\u001b[0m\u001b[0;34m.\u001b[0m\u001b[0mobjective\u001b[0m \u001b[0;34m=\u001b[0m \u001b[0mmodtmp\u001b[0m\u001b[0;34m.\u001b[0m\u001b[0madd_boundary\u001b[0m\u001b[0;34m(\u001b[0m\u001b[0mm\u001b[0m\u001b[0;34m,\u001b[0m \u001b[0mtype\u001b[0m\u001b[0;34m=\u001b[0m\u001b[0;34m'demand'\u001b[0m\u001b[0;34m)\u001b[0m\u001b[0;34m\u001b[0m\u001b[0m\n\u001b[1;32m      4\u001b[0m \u001b[0;32mprint\u001b[0m \u001b[0mmodtmp\u001b[0m\u001b[0;34m.\u001b[0m\u001b[0mslim_optimize\u001b[0m\u001b[0;34m(\u001b[0m\u001b[0;34m)\u001b[0m\u001b[0;34m\u001b[0m\u001b[0m\n\u001b[0;32m----> 5\u001b[0;31m \u001b[0;32mprint\u001b[0m \u001b[0mgapfill\u001b[0m\u001b[0;34m(\u001b[0m\u001b[0mmodtmp\u001b[0m\u001b[0;34m,\u001b[0m \u001b[0mrefmod\u001b[0m\u001b[0;34m)\u001b[0m\u001b[0;34m\u001b[0m\u001b[0m\n\u001b[0m",
      "\u001b[0;32m/home/jo/.local/lib/python2.7/site-packages/cobra/flux_analysis/gapfilling.pyc\u001b[0m in \u001b[0;36mgapfill\u001b[0;34m(model, universal, lower_bound, penalties, demand_reactions, exchange_reactions, iterations)\u001b[0m\n\u001b[1;32m    296\u001b[0m                           \u001b[0mdemand_reactions\u001b[0m\u001b[0;34m=\u001b[0m\u001b[0mdemand_reactions\u001b[0m\u001b[0;34m,\u001b[0m\u001b[0;34m\u001b[0m\u001b[0m\n\u001b[1;32m    297\u001b[0m                           exchange_reactions=exchange_reactions)\n\u001b[0;32m--> 298\u001b[0;31m     \u001b[0;32mreturn\u001b[0m \u001b[0mgapfiller\u001b[0m\u001b[0;34m.\u001b[0m\u001b[0mfill\u001b[0m\u001b[0;34m(\u001b[0m\u001b[0miterations\u001b[0m\u001b[0;34m=\u001b[0m\u001b[0miterations\u001b[0m\u001b[0;34m)\u001b[0m\u001b[0;34m\u001b[0m\u001b[0m\n\u001b[0m\u001b[1;32m    299\u001b[0m \u001b[0;34m\u001b[0m\u001b[0m\n\u001b[1;32m    300\u001b[0m \u001b[0;34m\u001b[0m\u001b[0m\n",
      "\u001b[0;32m/home/jo/.local/lib/python2.7/site-packages/cobra/flux_analysis/gapfilling.pyc\u001b[0m in \u001b[0;36mfill\u001b[0;34m(self, iterations)\u001b[0m\n\u001b[1;32m    220\u001b[0m         \u001b[0;32mfor\u001b[0m \u001b[0mi\u001b[0m \u001b[0;32min\u001b[0m \u001b[0mrange\u001b[0m\u001b[0;34m(\u001b[0m\u001b[0miterations\u001b[0m\u001b[0;34m)\u001b[0m\u001b[0;34m:\u001b[0m\u001b[0;34m\u001b[0m\u001b[0m\n\u001b[1;32m    221\u001b[0m             self.model.slim_optimize(error_value=None,\n\u001b[0;32m--> 222\u001b[0;31m                                      message='gapfilling optimization failed')\n\u001b[0m\u001b[1;32m    223\u001b[0m             solution = [self.model.reactions.get_by_id(ind.rxn_id)\n\u001b[1;32m    224\u001b[0m                         \u001b[0;32mfor\u001b[0m \u001b[0mind\u001b[0m \u001b[0;32min\u001b[0m \u001b[0mself\u001b[0m\u001b[0;34m.\u001b[0m\u001b[0mindicators\u001b[0m \u001b[0;32mif\u001b[0m\u001b[0;34m\u001b[0m\u001b[0m\n",
      "\u001b[0;32m/home/jo/.local/lib/python2.7/site-packages/cobra/core/model.pyc\u001b[0m in \u001b[0;36mslim_optimize\u001b[0;34m(self, error_value, message)\u001b[0m\n\u001b[1;32m    819\u001b[0m             \u001b[0;32mreturn\u001b[0m \u001b[0merror_value\u001b[0m\u001b[0;34m\u001b[0m\u001b[0m\n\u001b[1;32m    820\u001b[0m         \u001b[0;32melse\u001b[0m\u001b[0;34m:\u001b[0m\u001b[0;34m\u001b[0m\u001b[0m\n\u001b[0;32m--> 821\u001b[0;31m             \u001b[0massert_optimal\u001b[0m\u001b[0;34m(\u001b[0m\u001b[0mself\u001b[0m\u001b[0;34m,\u001b[0m \u001b[0mmessage\u001b[0m\u001b[0;34m)\u001b[0m\u001b[0;34m\u001b[0m\u001b[0m\n\u001b[0m\u001b[1;32m    822\u001b[0m \u001b[0;34m\u001b[0m\u001b[0m\n\u001b[1;32m    823\u001b[0m     \u001b[0;32mdef\u001b[0m \u001b[0moptimize\u001b[0m\u001b[0;34m(\u001b[0m\u001b[0mself\u001b[0m\u001b[0;34m,\u001b[0m \u001b[0mobjective_sense\u001b[0m\u001b[0;34m=\u001b[0m\u001b[0mNone\u001b[0m\u001b[0;34m,\u001b[0m \u001b[0mraise_error\u001b[0m\u001b[0;34m=\u001b[0m\u001b[0mFalse\u001b[0m\u001b[0;34m,\u001b[0m \u001b[0;34m**\u001b[0m\u001b[0mkwargs\u001b[0m\u001b[0;34m)\u001b[0m\u001b[0;34m:\u001b[0m\u001b[0;34m\u001b[0m\u001b[0m\n",
      "\u001b[0;32m/home/jo/.local/lib/python2.7/site-packages/cobra/util/solver.pyc\u001b[0m in \u001b[0;36massert_optimal\u001b[0;34m(model, message)\u001b[0m\n\u001b[1;32m    439\u001b[0m     \"\"\"\n\u001b[1;32m    440\u001b[0m     \u001b[0;32mif\u001b[0m \u001b[0mmodel\u001b[0m\u001b[0;34m.\u001b[0m\u001b[0msolver\u001b[0m\u001b[0;34m.\u001b[0m\u001b[0mstatus\u001b[0m \u001b[0;34m!=\u001b[0m \u001b[0moptlang\u001b[0m\u001b[0;34m.\u001b[0m\u001b[0minterface\u001b[0m\u001b[0;34m.\u001b[0m\u001b[0mOPTIMAL\u001b[0m\u001b[0;34m:\u001b[0m\u001b[0;34m\u001b[0m\u001b[0m\n\u001b[0;32m--> 441\u001b[0;31m         \u001b[0;32mraise\u001b[0m \u001b[0mOPTLANG_TO_EXCEPTIONS_DICT\u001b[0m\u001b[0;34m[\u001b[0m\u001b[0mmodel\u001b[0m\u001b[0;34m.\u001b[0m\u001b[0msolver\u001b[0m\u001b[0;34m.\u001b[0m\u001b[0mstatus\u001b[0m\u001b[0;34m]\u001b[0m\u001b[0;34m(\u001b[0m\u001b[0mmessage\u001b[0m\u001b[0;34m)\u001b[0m\u001b[0;34m\u001b[0m\u001b[0m\n\u001b[0m\u001b[1;32m    442\u001b[0m \u001b[0;34m\u001b[0m\u001b[0m\n\u001b[1;32m    443\u001b[0m \u001b[0;34m\u001b[0m\u001b[0m\n",
      "\u001b[0;31mInfeasible\u001b[0m: gapfilling optimization failed"
     ]
    }
   ],
   "source": [
    "modtmp = set_medium(modnew, minmed) # modnew?\n",
    "m = modtmp.metabolites.get_by_id(\"cpd00309_c0\")\n",
    "modtmp.objective = modtmp.add_boundary(m, type='demand')\n",
    "print modtmp.slim_optimize()\n",
    "print gapfill(modtmp, refmod)"
   ]
  },
  {
   "cell_type": "code",
   "execution_count": 32,
   "metadata": {},
   "outputs": [
    {
     "data": {
      "text/plain": [
       "['cpd00027',\n",
       " 'cpd00007',\n",
       " 'cpd00001',\n",
       " 'cpd00013',\n",
       " 'cpd00009',\n",
       " 'cpd00030',\n",
       " 'cpd00034',\n",
       " 'cpd00058',\n",
       " 'cpd00063',\n",
       " 'cpd00067',\n",
       " 'cpd00099',\n",
       " 'cpd00205',\n",
       " 'cpd00254',\n",
       " 'cpd10515',\n",
       " 'cpd00971',\n",
       " 'cpd01012',\n",
       " 'cpd10516',\n",
       " 'cpd11574']"
      ]
     },
     "execution_count": 32,
     "metadata": {},
     "output_type": "execute_result"
    }
   ],
   "source": [
    "minmed"
   ]
  },
  {
   "cell_type": "code",
   "execution_count": 23,
   "metadata": {},
   "outputs": [
    {
     "name": "stdout",
     "output_type": "stream",
     "text": [
      "cpd03495_c0 + cpd15666_c0 <=> cpd02229_c0 + cpd15665_c0\n",
      "Undecaprenyl_diphospho_N_acetylmuramoyl__N_acetylglucosamine_L_ala_D_glu_meso_2_6_diaminopimeloyl_D_ala_D_ala_c0 + Peptidoglycan_polymer_n_1_subunits_c0 <=> Bactoprenyl_diphosphate_c0 + Peptidoglycan_polymer_n_subunits_c0\n",
      "\n",
      "cpd00001_c0 + cpd02229_c0 --> cpd00009_c0 + 2.0 cpd00067_c0 + cpd00286_c0\n",
      "H2O_c0 + Bactoprenyl_diphosphate_c0 --> Phosphate_c0 + 2.0 H_plus__c0 + Undecaprenylphosphate_c0\n",
      "\n",
      "8.0 cpd00113_c0 + cpd00350_c0 <=> 8.0 cpd00012_c0 + 8.0 cpd00067_c0 + cpd02229_c0\n",
      "8.0 Isopentenyldiphosphate_c0 + Farnesyldiphosphate_c0 <=> 8.0 PPi_c0 + 8.0 H_plus__c0 + Bactoprenyl_diphosphate_c0\n",
      "\n"
     ]
    }
   ],
   "source": [
    "m = mod.metabolites.get_by_id(\"cpd02229_c0\")\n",
    "for r in m.reactions:\n",
    "    if r.id==\"bio1\": continue\n",
    "    print r.build_reaction_string(use_metabolite_names=False)\n",
    "    print r.build_reaction_string(use_metabolite_names=True) + \"\\n\""
   ]
  },
  {
   "cell_type": "code",
   "execution_count": 40,
   "metadata": {},
   "outputs": [],
   "source": [
    "from cobra.flux_analysis.loopless import add_loopless, loopless_solution\n",
    "from cobra.flux_analysis import pfba\n",
    "import pandas"
   ]
  },
  {
   "cell_type": "code",
   "execution_count": 59,
   "metadata": {},
   "outputs": [
    {
     "name": "stdout",
     "output_type": "stream",
     "text": [
      "compound not found in model: cpd10515\n",
      "compound not found in model: cpd11574\n",
      "-1.56153224243e-13 271.282955535\n"
     ]
    }
   ],
   "source": [
    "med = [\"cpd11606\", \"cpd00305\",\"cpd00048\",\"cpd00058\", \"cpd00034\", \"cpd10516\", \"cpd00254\", \"cpd00205\", \"cpd00030\", \"cpd00149\", \"cpd00099\", \"cpd00063\"]\n",
    "minmed = [\"cpd00027\", \"cpd00007\", \"cpd00001\", # glc, o2, h2o\n",
    "          \"cpd00013\", # nh3\n",
    "          # minerals\n",
    "          \"cpd00009\", \"cpd00030\", \"cpd00034\", \"cpd00058\", \"cpd00063\", \"cpd00067\", \"cpd00099\", \"cpd00205\", \"cpd00254\", \"cpd10515\", \"cpd00971\", \"cpd01012\", \"cpd10516\", \"cpd11574\"]\n",
    "\n",
    "modtmp = set_medium(modnew, minmed)\n",
    "nominal = modtmp.optimize()\n",
    "loopless = loopless_solution(modnew)\n",
    "print nominal.objective_value, loopless.fluxes[\"bio1\"]"
   ]
  },
  {
   "cell_type": "code",
   "execution_count": 48,
   "metadata": {},
   "outputs": [
    {
     "data": {
      "text/plain": [
       "<matplotlib.axes._subplots.AxesSubplot at 0x7f08b870e0d0>"
      ]
     },
     "execution_count": 48,
     "metadata": {},
     "output_type": "execute_result"
    },
    {
     "data": {
      "image/png": "[encoded data removed]",
      "text/plain": [
       "<matplotlib.figure.Figure at 0x7f08b6096cd0>"
      ]
     },
     "metadata": {},
     "output_type": "display_data"
    }
   ],
   "source": [
    "df = pandas.DataFrame(dict(loopless=loopless.fluxes, nominal=nominal.fluxes))\n",
    "df.plot.scatter(x='loopless', y='nominal')"
   ]
  }
 ],
 "metadata": {
  "kernelspec": {
   "display_name": "Python 2",
   "language": "python",
   "name": "python2"
  },
  "language_info": {
   "codemirror_mode": {
    "name": "ipython",
    "version": 2
   },
   "file_extension": ".py",
   "mimetype": "text/x-python",
   "name": "python",
   "nbconvert_exporter": "python",
   "pygments_lexer": "ipython2",
   "version": "2.7.14+"
  }
 },
 "nbformat": 4,
 "nbformat_minor": 2
}
