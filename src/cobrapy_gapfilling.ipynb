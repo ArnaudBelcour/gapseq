{
 "cells": [
  {
   "cell_type": "code",
   "execution_count": 1,
   "metadata": {},
   "outputs": [],
   "source": [
    "from cobra.flux_analysis import gapfill\n",
    "from cobra.flux_analysis.gapfilling import GapFiller\n",
    "from cobra.io import read_sbml_model\n",
    "from cobra.io import write_sbml_model\n",
    "from cobra import Model, Reaction, Metabolite\n",
    "import pandas\n",
    "import sys\n",
    "import re"
   ]
  },
  {
   "cell_type": "code",
   "execution_count": 4,
   "metadata": {
    "scrolled": true
   },
   "outputs": [],
   "source": [
    "seedrDB = pandas.read_csv(\"/home/jo/uni/gapseq/dat/seed_reactions.tsv\", sep=\"\\t\")\n",
    "seedmDB = pandas.read_csv(\"/home/jo/uni/gapseq/dat/seed_metabolites.tsv\", sep=\"\\t\")\n",
    "#seedrDB = pandas.read_csv(\"/home/jo/uni/gapseq/dat/vmh_reactions.csv\", sep=\",\")"
   ]
  },
  {
   "cell_type": "code",
   "execution_count": 62,
   "metadata": {
    "scrolled": true
   },
   "outputs": [],
   "source": [
    "def correct_mass(dic): # how to handle wrong charge????\n",
    "    if dic == {}:\n",
    "        return True\n",
    "    else:\n",
    "        return False\n",
    "\n",
    "def only_missing_H(dic):\n",
    "    if len(dic)==1 and \"H\" in dic:\n",
    "        return True\n",
    "    else:\n",
    "        return False\n",
    "\n",
    "def repair_mass_balance(model, delete_unbalanced=True, verbose=False):\n",
    "    mod = model.copy()\n",
    "    Cwrong = 0\n",
    "    Ccorrected = 0\n",
    "    if \"cpd00067_c0\" not in mod.metabolites:\n",
    "        h = Metabolite(id=\"cpd00067_c0\", name=\"H+\", formula=\"H\", charge=1)\n",
    "        mod.add_metabolites(h)\n",
    "    \n",
    "    rea_rm = []\n",
    "    \n",
    "    mets = [m for m in mod.metabolites if m.formula==\"\"]\n",
    "    for m in mets:\n",
    "        mid =re.sub(\"_.*$\",\"\", m.id)\n",
    "        hit = seedmDB.loc[seedmDB[\"id\"]==mid]\n",
    "        m.formula = hit[\"formula\"].values[0]\n",
    "        m.charge = hit[\"charge\"].values[0]\n",
    "    print len(mets), \"compounds without formula, fixed from total\", len(mod.metabolites) \n",
    "    \n",
    "    for r in mod.reactions:\n",
    "        if r in mod.exchanges or r.id==\"bio1\":\n",
    "            continue\n",
    "        \n",
    "        mbal = r.check_mass_balance()\n",
    "        if \"charge\" in mbal:\n",
    "            mbal.pop(\"charge\") # ToDo: how to handle charge? (is not always in agreement with H!)\n",
    "        if not correct_mass(mbal): \n",
    "            Cwrong += 1\n",
    "            if not only_missing_H(mbal):\n",
    "                for m in r.metabolites: # check if one substance causes miss balance => remove\n",
    "                    tmp = r.copy()\n",
    "                    tmp.subtract_metabolites({m:-1})\n",
    "                    mbal2 = tmp.check_mass_balance()\n",
    "                    if only_missing_H(mbal2):\n",
    "                        if verbose:\n",
    "                            print \"removed\", m.id,m.name, \"from\", r.id\n",
    "                            print mbal, mbal2\n",
    "                        mbal = mbal2\n",
    "                        r = tmp\n",
    "                        break\n",
    "            if only_missing_H(mbal): # check again if corrections worked\n",
    "                miss = mbal[\"H\"]\n",
    "            else:\n",
    "                if verbose:\n",
    "                    print \"could not be fixed\"\n",
    "                    print \"\\t\",r.id, r.name, r.reaction\n",
    "                    print \"\\t\",mbal\n",
    "                if delete_unbalanced:\n",
    "                    rea_rm.append(r)\n",
    "                    #mod.remove_reactions(r)\n",
    "                continue\n",
    "            if miss != round(miss): # check if integer\n",
    "                print \"error in\", r.id, \"mass imbalance:\", mbal\n",
    "                if delete_unbalanced:\n",
    "                    rea_rm.append(r)\n",
    "                    #mod.remove_reactions(r)\n",
    "                continue\n",
    "            h = mod.metabolites.get_by_id(\"cpd00067_c0\")\n",
    "            if miss < 0:\n",
    "                r.add_metabolites({h: -miss})\n",
    "            if miss > 0:\n",
    "                r.subtract_metabolites({h: miss})\n",
    "            #print mbal, r.check_mass_balance()\n",
    "            mbal3 = r.check_mass_balance()\n",
    "            if \"charge\" in mbal3:\n",
    "                mbal3.pop(\"charge\")\n",
    "            if not correct_mass(mbal3):\n",
    "                if verbose:\n",
    "                    print r.id, r.name, r.reaction\n",
    "                    print \"old:\",mbal, \"\\tnew:\",mbal3\n",
    "                if delete_unbalanced:\n",
    "                    rea_rm.append(r)\n",
    "                    #mod.remove_reactions(r)\n",
    "            else:\n",
    "                if verbose:\n",
    "                    print r.id, \"fixed\"\n",
    "                Ccorrected += 1\n",
    "    mod.remove_reactions(rea_rm)\n",
    "    #print \",\".join([r.name for r in rea_rm])\n",
    "    #print [r.check_mass_balance() for r in rea_rm]\n",
    "    mod.repair()\n",
    "    print \"Unbalanced reactions:\", Cwrong, \"\\tCould be corrected:\", Ccorrected, \"\\tRemoved reactions:\", len(model.reactions)-len(mod.reactions)\n",
    "    return(mod)"
   ]
  },
  {
   "cell_type": "code",
   "execution_count": 51,
   "metadata": {},
   "outputs": [
    {
     "name": "stdout",
     "output_type": "stream",
     "text": [
      "1610 compounds without formula, fixed from total 1610\n",
      "Unbalanced reactions: 0 \tCould be corrected: 0 \tRemoved reactions: 0\n"
     ]
    }
   ],
   "source": [
    "#mod = read_sbml_model(\"/home/jo/uni/gapseq/dat/myb71_vhm.xml\")\n",
    "mod = repair_mass_balance(read_sbml_model(\"/home/jo/uni/gapseq/dat/myb71.xml\"), verbose=False)\n",
    "#mod = repair_mass_balance(read_sbml_model(\"/home/jo/uni/celegans_microbiome/dat/modelall/MYb10.sbml\"), verbose=False)\n",
    "#mod = repair_mass_balance(read_sbml_model(\"/home/jo/uni/celegans_microbiome/dat/modelall/MYb11.sbml\"), verbose=False)\n",
    "#mod = repair_mass_balance(read_sbml_model(\"/home/jo/uni/celegans_microbiome/dat/modelall/MYb237_new.sbml\"), verbose=False)\n",
    "with open(\"/home/jo/uni/gapseq/myb71Reactions.lst\") as f:\n",
    "#with open(\"/home/jo/uni/gapseq/newReactions.lst\") as f:\n",
    "    lines = f.read()\n",
    "newR = lines.split(\" \")"
   ]
  },
  {
   "cell_type": "code",
   "execution_count": 49,
   "metadata": {
    "scrolled": true
   },
   "outputs": [
    {
     "data": {
      "text/plain": [
       "13.0"
      ]
     },
     "execution_count": 49,
     "metadata": {},
     "output_type": "execute_result"
    }
   ],
   "source": [
    "mbal[\"H\"]"
   ]
  },
  {
   "cell_type": "code",
   "execution_count": 66,
   "metadata": {},
   "outputs": [
    {
     "name": "stdout",
     "output_type": "stream",
     "text": [
      "Consider 3086 reactions\n",
      "517 reactions already in the model\n",
      "203 removed deprecated reactions\n",
      "0 compounds without formula, fixed from total 2460\n",
      "Unbalanced reactions: 1728 \tCould be corrected: 1254 \tRemoved reactions: 474\n",
      "1892 remaining reaction in reference database:\n"
     ]
    }
   ],
   "source": [
    "#\n",
    "# Create reference model with reactions pool\n",
    "#\n",
    "\n",
    "#refdb  = seedrDB.loc[seedrDB['abbreviation'].isin(newR)] # vmh\n",
    "refdb  = seedrDB.loc[seedrDB['id'].isin(newR)]\n",
    "#refdb  = seedrDB.loc[seedrDB['id'].isin(\"rxn01084\")]\n",
    "refmod = Model(\"reaction_database\")\n",
    "Rmod   = [re.sub(\"_.*$\", \"\", r.id) for r in mod.reactions]\n",
    "print \"Consider\", len(refdb.index), \"reactions\"\n",
    "Cold = 0\n",
    "Calready = 0\n",
    "for i,row in refdb.iterrows():\n",
    "    #rid = row[\"abbreviation\"] # vmh\n",
    "    rid = row[\"id\"]\n",
    "    if row[\"is_obsolete\"] == 1: # do not add old reactions\n",
    "        Cold += 1\n",
    "        continue\n",
    "    #if rid in Rmod: # vmh\n",
    "    elif rid in Rmod:\n",
    "        Calready += 1\n",
    "        continue\n",
    "    r = Reaction(rid)\n",
    "    refmod.add_reaction(r)\n",
    "    #rstr = row[\"formula\"] # vmh\n",
    "    rstr = row[\"equation\"]\n",
    "    rstr = row[\"code\"]\n",
    "    rstr = rstr.replace(\"[0]\", \"_c0\").replace(\"[1]\", \"_e0\").replace(\"[3]\", \"_p0\")\n",
    "    r.build_reaction_from_string(rstr, verbose=False)\n",
    "    #r.reaction = rstr\n",
    "for m in refmod.metabolites:\n",
    "    mid =re.sub(\"_.*$\",\"\", m.id)\n",
    "    hit = seedmDB.loc[seedmDB[\"id\"]==mid]\n",
    "    m.name = hit[\"name\"].values[0]\n",
    "    m.formula = hit[\"formula\"].values[0]\n",
    "    m.charge = hit[\"charge\"].values[0]\n",
    "\n",
    "print Calready, \"reactions already in the model\"\n",
    "print Cold, \"removed deprecated reactions\"\n",
    "refmod = repair_mass_balance(refmod, delete_unbalanced=True)\n",
    "print len(refmod.reactions), \"remaining reaction in reference database:\", \n",
    "\n",
    "# equation: Unbalanced reactions: 425 \tCould be corrected: 4 \tRemoved reactions: 421\n",
    "# code: Unbalanced reactions: 1369 \tCould be corrected: 949 \tRemoved reactions: 420\n",
    "#\n",
    "# myb71: Unbalanced reactions: 1728 \tCould be corrected: 950 \tRemoved reactions: 778\n",
    "# myb71: Unbalanced reactions: 1728 \tCould be corrected: 1254 \tRemoved reactions: 474"
   ]
  },
  {
   "cell_type": "code",
   "execution_count": 67,
   "metadata": {
    "scrolled": true
   },
   "outputs": [
    {
     "name": "stdout",
     "output_type": "stream",
     "text": [
      "0\n"
     ]
    }
   ],
   "source": [
    "Cerror = 0\n",
    "test = refmod\n",
    "for r in test.reactions:\n",
    "    if r in test.exchanges or r.id==\"bio1\":\n",
    "            continue\n",
    "    mbal = r.check_mass_balance()\n",
    "    if mbal != {} and not (len(mbal)==1 and \"charge\" in mbal):\n",
    "        #break\n",
    "        Cerror += 1\n",
    "        r.remove_from_model()\n",
    "print Cerror"
   ]
  },
  {
   "cell_type": "code",
   "execution_count": 70,
   "metadata": {},
   "outputs": [],
   "source": [
    "def set_medium(model, medium):\n",
    "    mod = model.copy()\n",
    "    for ex in mod.exchanges:\n",
    "        ex.lower_bound=0\n",
    "\n",
    "    for m in medium: # set medium\n",
    "        #ex = \"EX_\"+m+\"_LPAREN_e_RPAREN_\" # vmh\n",
    "        ex = \"EX_\"+m+\"_e0\"\n",
    "        #ex = m\n",
    "        if ex in mod.reactions:\n",
    "            mod.reactions.get_by_id(ex).lower_bound=-1000\n",
    "        else:\n",
    "            print \"compound not found in model:\", m\n",
    "    return(mod)"
   ]
  },
  {
   "cell_type": "code",
   "execution_count": 29,
   "metadata": {},
   "outputs": [
    {
     "name": "stdout",
     "output_type": "stream",
     "text": [
      "compound not found in model: fe2\n"
     ]
    }
   ],
   "source": [
    "minmed = [\"glc\", \"o2\", \"h2o\", \"nh4\",\n",
    "         \"ca2\", \"cl\", \"k\", \"mg2\", \"na1\", \"pi\", \"cu2\", \"fe2\", \"fe3\", \"mn2\", \"zn2\"]\n",
    "modmin = set_medium(mod, minmed)"
   ]
  },
  {
   "cell_type": "code",
   "execution_count": 71,
   "metadata": {
    "scrolled": false
   },
   "outputs": [
    {
     "name": "stdout",
     "output_type": "stream",
     "text": [
      "compound not found in model: cpd10515\n",
      "compound not found in model: cpd11574\n",
      "0.0 cpd00241_c0 dGTP_c0\n",
      "\t => could be fixed: rxn02938\n",
      "0.0 cpd00015_c0 FAD_c0\n",
      "\t => could be fixed: rxn02938,rxn05039\n",
      "0.0 cpd00201_c0 10_Formyltetrahydrofolate_c0\n",
      "\t => could be fixed: rxn02938\n",
      "0.0 cpd15695_c0 Diisoheptadecanoylphosphatidylethanolamine_c0\n",
      "\t => could be fixed: rxn00290\n",
      "0.0 cpd00107_c0 L_Leucine_c0\n",
      "\t => could be fixed: rxn02186\n",
      "0.0 cpd15794_c0 Isoheptadecanoylcardiolipin_B_subtilis_c0\n",
      "\t => could be fixed: rxn00290\n",
      "0.0 cpd15665_c0 Peptidoglycan_polymer_n_subunits_c0\n",
      "\t => failed: <class 'cobra.exceptions.Infeasible'>\n",
      "0.0 cpd00322_c0 L_Isoleucine_c0\n",
      "\t => could be fixed: rxn33937\n",
      "0.0 cpd15793_c0 Stearoylcardiolipin_B_subtilis_c0\n",
      "\t => could be fixed: rxn10029\n",
      "0.0 cpd00060_c0 L_Methionine_c0\n",
      "\t => failed: <class 'cobra.exceptions.Infeasible'>\n",
      "0.0 cpd00084_c0 L_Cysteine_c0\n",
      "\t => failed: <class 'cobra.exceptions.Infeasible'>\n",
      "0.0 cpd00115_c0 dATP_c0\n",
      "\t => could be fixed: rxn02938\n",
      "0.0 cpd00264_c0 Spermidine_c0\n",
      "\t => could be fixed: rxn04786,rxn07465\n",
      "0.0 cpd00048_c0 Sulfate_c0\n",
      "\t => failed: <class 'cobra.exceptions.Infeasible'>\n",
      "0.0 cpd15560_c0 Ubiquinone_8_c0\n",
      "\t => failed: <class 'cobra.exceptions.Infeasible'>\n",
      "0.0 cpd15352_c0 2_Demethylmenaquinone_8_c0\n",
      "\t => failed: <class 'cobra.exceptions.Infeasible'>\n",
      "0.0 cpd00039_c0 L_Lysine_c0\n",
      "\t => could be fixed: rxn01644,rxn02929,rxn07441\n",
      "0.0 cpd15540_c0 Phosphatidylglycerol_dioctadecanoyl_c0\n",
      "\t => could be fixed: rxn10029\n",
      "0.0 cpd15432_c0 core_oligosaccharide_lipid_A_c0\n",
      "\t => could be fixed: rxn00555\n",
      "0.0 cpd15533_c0 phosphatidylethanolamine_dioctadecanoyl_c0\n",
      "\t => could be fixed: rxn10029\n",
      "0.0 cpd00038_c0 GTP_c0\n",
      "\t => could be fixed: rxn02938\n",
      "0.0 cpd00156_c0 L_Valine_c0\n",
      "\t => could be fixed: rxn02186\n",
      "0.0 cpd00066_c0 L_Phenylalanine_c0\n",
      "\t => could be fixed: rxn01256\n",
      "0.0 cpd00006_c0 NADP_c0\n",
      "\t => could be fixed: rxn02938\n",
      "0.0 cpd00010_c0 CoA_c0\n",
      "\t => failed: <class 'cobra.exceptions.Infeasible'>\n",
      "0.0 cpd00069_c0 L_Tyrosine_c0\n",
      "\t => could be fixed: rxn01256\n",
      "0.0 cpd02229_c0 Bactoprenyl_diphosphate_c0\n",
      "\t => failed: <class 'cobra.exceptions.Infeasible'>\n",
      "0.0 cpd00003_c0 NAD_c0\n",
      "\t => could be fixed: rxn02938\n",
      "0.0 cpd00087_c0 Tetrahydrofolate_c0\n",
      "\t => could be fixed: rxn02938\n",
      "0.0 cpd00042_c0 GSH_c0\n",
      "\t => failed: <class 'cobra.exceptions.Infeasible'>\n",
      "0.0 cpd15500_c0 Menaquinone_8_c0\n",
      "\t => failed: <class 'cobra.exceptions.Infeasible'>\n",
      "0.0 cpd00056_c0 TPP_c0\n",
      "\t => failed: <class 'cobra.exceptions.Infeasible'>\n",
      "0.0 cpd00220_c0 Riboflavin_c0\n",
      "\t => could be fixed: rxn02938,rxn05039\n",
      "0.0 cpd00166_c0 Calomide_c0\n",
      "\t => failed: <class 'cobra.exceptions.Infeasible'>\n",
      "0.0 cpd00345_c0 5_Methyltetrahydrofolate_c0\n",
      "\t => could be fixed: rxn02938\n",
      "0.0 cpd15722_c0 Diisoheptadecanoylphosphatidylglycerol_c0\n",
      "\t => could be fixed: rxn00290\n",
      "0.0 cpd00002_c0 ATP_c0\n",
      "\t => could be fixed: rxn02938\n",
      "0.0 cpd00017_c0 S_Adenosyl_L_methionine_c0\n",
      "\t => failed: <class 'cobra.exceptions.Infeasible'>\n",
      "0.0 cpd11493_c0 ACP_c0\n",
      "\t => failed: <class 'cobra.exceptions.Infeasible'>\n",
      "0.0 cpd00288_c0 D_Glucosamine_phosphate_c0\n",
      "\t => could be fixed: rxn00555\n",
      "\n",
      "Total compounds: 66 \t can be produced: 26 \t could be fixed 26 \t altogether: 78.8 %  (before: 39.4 % )\n"
     ]
    }
   ],
   "source": [
    "#\n",
    "# Iterate by biomass components and try to produce components step-wise by minimal medium only\n",
    "# => if biomass component could not be produced => gapfilling\n",
    "#\n",
    "\n",
    "#richmed = [\"EX_cpd00001_e0\", \"EX_cpd00007_e0\",\"EX_cpd00009_e0\", \"EX_cpd00018_e0\", \"EX_cpd00023_e0\", \"EX_cpd00027_e0\", \"EX_cpd00028_e0\", \"EX_cpd00030_e0\", \"EX_cpd00033_e0\", \"EX_cpd00034_e0\", \"EX_cpd00035_e0\", \"EX_cpd00039_e0\", \"EX_cpd00041_e0\", \"EX_cpd00046_e0\", \"EX_cpd00048_e0\", \"EX_cpd00051_e0\", \"EX_cpd00054_e0\", \"EX_cpd00058_e0\", \"EX_cpd00060_e0\", \"EX_cpd00063_e0\", \"EX_cpd00065_e0\", \"EX_cpd00066_e0\", \"EX_cpd00067_e0\", \"EX_cpd00069_e0\", \"EX_cpd00084_e0\", \"EX_cpd00091_e0\", \"EX_cpd00092_e0\", \"EX_cpd00099_e0\", \"EX_cpd00107_e0\", \"EX_cpd00119_e0\", \"EX_cpd00126_e0\", \"EX_cpd00129_e0\", \"EX_cpd00149_e0\", \"EX_cpd00156_e0\", \"EX_cpd00161_e0\", \"EX_cpd00182_e0\", \"EX_cpd00184_e0\", \"EX_cpd00205_e0\", \"EX_cpd00215_e0\", \"EX_cpd00218_e0\", \"EX_cpd00219_e0\", \"EX_cpd00220_e0\", \"EX_cpd00226_e0\", \"EX_cpd00239_e0\", \"EX_cpd00246_e0\", \"EX_cpd00249_e0\", \"EX_cpd00254_e0\", \"EX_cpd00311_e0\", \"EX_cpd00322_e0\", \"EX_cpd00381_e0\", \"EX_cpd00383_e0\", \"EX_cpd00393_e0\", \"EX_cpd00438_e0\", \"EX_cpd00531_e0\", \"EX_cpd00541_e0\", \"EX_cpd00644_e0\", \"EX_cpd00654_e0\", \"EX_cpd00793_e0\", \"EX_cpd00971_e0\", \"EX_cpd01012_e0\", \"EX_cpd01048_e0\", \"EX_cpd03424_e0\", \"EX_cpd10515_e0\", \"EX_cpd10516_e0\", \"EX_cpd11595_e0\"]\n",
    "minmed = [\"cpd00027\", \"cpd00007\", \"cpd00001\", # glc, o2, h2o\n",
    "          #\"cpd00020\", # pyruvate\n",
    "          #\"cpd00106\", # fumarat\n",
    "          \"cpd00013\", # nh3\n",
    "          # minerals\n",
    "          \"cpd00009\", \"cpd00030\", \"cpd00034\", \"cpd00058\", \"cpd00063\", \"cpd00067\", \"cpd00099\", \"cpd00205\", \"cpd00254\", \"cpd10515\", \"cpd00971\", \"cpd01012\", \"cpd10516\", \"cpd11574\"]\n",
    "\n",
    "#minmed = [\"glc\", \"o2\", \"h2o\", \"nh4\",\n",
    "#         \"ca2\", \"cl\", \"k\", \"mg2\", \"na1\", \"pi\", \"cu2\", \"fe2\", \"fe3\", \"mn2\", \"zn2\"]\n",
    "\n",
    "\n",
    "modmin = set_medium(mod, minmed)\n",
    "modnew = mod.copy()\n",
    "\n",
    "ignore = [\"H\", \"Li\", \"Na\", \"Mg\", \"K\", \"Ca\", \"P\", \"Fe\", \"Cl\", \"Zn\", \"Mn\", \"Mo\", \"Se\", \"Co\", \"Cu\", \"Ni\", \"W\",\n",
    "          \"H2O\"]\n",
    "    \n",
    "Call=0; Cwork=0; Cfix=0\n",
    "fixLater = []\n",
    "fail = []\n",
    "relMet = [\"cpd00288_c0\"]\n",
    "allMet = mod.reactions.bio1.reactants + [modmin.metabolites.get_by_id(m) for m in relMet]\n",
    "#allMet = mod.reactions.Biomass.reactants # vmh\n",
    "#bioaa = [m for m in mod.metabolites if m.name.startswith(\"L_\") and m in mod.reactions.bio1.metabolites]\n",
    "#for m in bioaa:\n",
    "for m in allMet:\n",
    "    if m.formula in ignore: # ignore minerals, etc\n",
    "        continue\n",
    "    Call += 1\n",
    "    modtmp = modmin.copy()\n",
    "    modtmp.objective = modtmp.add_boundary(m, type='demand')\n",
    "    obj = modtmp.slim_optimize()\n",
    "    if obj > 0:\n",
    "        #print \"\\t => could be produced:\"\n",
    "        Cwork += 1\n",
    "    else:\n",
    "        # gapfilling\n",
    "        print obj, m.id, m.name\n",
    "        try:\n",
    "            gapsol = gapfill(modtmp, refmod) # integer_threshold=1e-06\n",
    "        except RuntimeError:\n",
    "            print \"\\t => Runtime error: lowering the integer_threshold?\"\n",
    "            fixLater.append(m)\n",
    "            continue\n",
    "        except:\n",
    "            print \"\\t => failed:\", sys.exc_info()[0]\n",
    "            fail.append(m)\n",
    "            continue\n",
    "        if len(gapsol[0]) > 0:\n",
    "            Cfix += 1\n",
    "            print \"\\t => could be fixed:\", \",\".join([r.id for r in gapsol[0]])\n",
    "            modnew.add_reactions([r for r in gapsol[0] if r not in modnew.reactions])\n",
    "print \"\\nTotal compounds:\", Call, \"\\t can be produced:\", Cwork, \"\\t could be fixed\", Cfix, \"\\t altogether:\", round(100*float(Cwork+Cfix)/Call,1), \"%\", \" (before:\",round(100*float(Cwork)/Call,1),\"% )\""
   ]
  },
  {
   "cell_type": "code",
   "execution_count": null,
   "metadata": {},
   "outputs": [],
   "source": [
    "#myb237\n",
    "#Total compounds: 66 \t can be produced: 25 \t could be fixed 14 \t altogether: 59.1 %  (before: 37.9 % )\n",
    "\n",
    "\n",
    "#myb11\n",
    "# Total compounds: 77 \t can be produced: 35 \t could be fixed 19 \t altogether: 70.1 %  (before: 45.5 % )\n",
    "\n",
    "# myb10\n",
    "#Total compounds: 77 \t can be produced: 28 \t could be fixed 23 \t altogether: 66.2 %  (before: 36.4 % )\n",
    "\n",
    "# myb71\n",
    "# Total compounds: 77 \t can be produced: 36 \t could be fixed 14 \t altogether: 64.9 %  (before: 46.8 % )\n",
    "# Total compounds: 77 \t can be produced: 36 \t could be fixed 11 \t altogether: 61.0 %  (before: 46.8 % )\n",
    "\n",
    "# Total compounds: 76 \t can be produced: 36 \t could be fixed 29 \t altogether: 85.5 %  (before: 47.4 % )\n",
    "# Total compounds: 76 \t can be produced: 36 \t could be fixed 18 \t altogether: 71.1 %  (before: 47.4 % )"
   ]
  },
  {
   "cell_type": "code",
   "execution_count": 43,
   "metadata": {},
   "outputs": [
    {
     "name": "stdout",
     "output_type": "stream",
     "text": [
      "Still integer_threshold?\n",
      "Still integer_threshold?\n",
      "Still integer_threshold?\n",
      "Still integer_threshold?\n",
      "Still integer_threshold?\n"
     ]
    }
   ],
   "source": [
    "for m in fixLater:\n",
    "    modtmp = modmin.copy()\n",
    "    modtmp.objective = modtmp.add_boundary(m, type='demand')\n",
    "    try:\n",
    "        #gapsol = gapfill(modtmp, refmod) # integer_threshold=1e-06\n",
    "        gapsol  = GapFiller(modtmp, refmod, integer_threshold=1e-16).fill()\n",
    "    except RuntimeError:\n",
    "            print m.id, m.name, \"... no solution found ... still integer_threshold?\""
   ]
  },
  {
   "cell_type": "code",
   "execution_count": 26,
   "metadata": {
    "scrolled": true
   },
   "outputs": [
    {
     "name": "stdout",
     "output_type": "stream",
     "text": [
      "IN FLUXES             OUT FLUXES            OBJECTIVES\n",
      "--------------------  --------------------  ------------\n",
      "cpd00024_e0    1e+03  cpd00001_e0    1e+03  bio1  194\n",
      "cpd00080_e0    1e+03  cpd00011_e0    1e+03\n",
      "cpd00209_e0  935      cpd00075_e0  927\n",
      "cpd00122_e0  404      cpd00009_e0  844\n",
      "cpd00106_e0  393      cpd00036_e0  740\n",
      "cpd00033_e0  360      cpd00130_e0  710\n",
      "cpd00307_e0  228      cpd00159_e0  416\n",
      "cpd00082_e0  198      cpd00276_e0  342\n",
      "cpd17041_c0  194      cpd11416_c0  194\n",
      "cpd17042_c0  194      cpd00092_e0  188\n",
      "cpd17043_c0  194      cpd00117_e0   90.1\n",
      "cpd00107_e0   89.3    cpd00129_e0   86.6\n",
      "cpd00156_e0   69.5    cpd00027_e0   47.2\n",
      "cpd00322_e0   63.4\n",
      "cpd00054_e0   61.8\n",
      "cpd00039_e0   60.2\n",
      "cpd00007_e0   55.3\n",
      "cpd00073_e0   47.8\n",
      "cpd00162_e0   40.9\n",
      "cpd11581_e0   38.9\n",
      "cpd00309_e0   30.5\n",
      "cpd00066_e0   29.9\n",
      "cpd00226_e0   28.1\n",
      "cpd11590_e0   25.4\n",
      "cpd00069_e0   23.4\n",
      "cpd01080_e0   16.5\n",
      "cpd11584_e0   15.4\n",
      "cpd00065_e0    9.15\n",
      "cpd00268_e0    8.28\n",
      "cpd00393_e0    1.8\n",
      "cpd00797_e0    1.74\n",
      "cpd00355_e0    1.2\n",
      "cpd11606_e0    1.2\n",
      "cpd00028_e0    1.2\n",
      "cpd00030_e0    0.6\n",
      "cpd00058_e0    0.6\n",
      "cpd00063_e0    0.6\n",
      "cpd00099_e0    0.6\n",
      "cpd00149_e0    0.6\n",
      "cpd00305_e0    0.6\n",
      "cpd10515_e0    0.6\n",
      "cpd10516_e0    0.6\n",
      "cpd00048_e0    0.6\n",
      "cpd00034_e0    0.6\n",
      "cpd00254_e0    0.6\n",
      "cpd00205_e0    0.6\n",
      "cpd00264_e0    0.6\n"
     ]
    }
   ],
   "source": [
    "#modnew = read_sbml_model(\"/home/jo/uni/gapseq/myb71_gapfilled.xml\")\n",
    "modnew.summary()\n",
    "#write_sbml_model(modnew, filename=\"/home/jo/uni/gapseq/myb71_gapfilled.xml\")\n",
    "write_sbml_model(modnew, filename=\"/home/jo/uni/gapseq/myb11_gapfilled.xml\")"
   ]
  },
  {
   "cell_type": "code",
   "execution_count": 84,
   "metadata": {
    "scrolled": true
   },
   "outputs": [
    {
     "name": "stdout",
     "output_type": "stream",
     "text": [
      "compound not found in model: cpd10515\n",
      "compound not found in model: cpd11574\n",
      "0.0 cpd00003_c0 NAD_c0\n",
      "[[<Reaction rxn31646 at 0x7fd21839cbd0>]]\n"
     ]
    }
   ],
   "source": [
    "modtmp = set_medium(modnew, minmed) # modnew?\n",
    "m = modtmp.metabolites.get_by_id(\"cpd00003_c0\")\n",
    "modtmp.objective = modtmp.add_boundary(m, type='demand')\n",
    "print modtmp.slim_optimize(), m.id, m.name\n",
    "print gapfill(modtmp, refmod)"
   ]
  },
  {
   "cell_type": "code",
   "execution_count": 93,
   "metadata": {},
   "outputs": [
    {
     "name": "stdout",
     "output_type": "stream",
     "text": [
      "{'P': -2.0, 'C': -10.0, 'charge': 15.0, 'O': -10.0, 'N': -5.0}\n",
      "cpd00071_c0 Acetaldehyde C2H4O\n",
      "cpd00020_c0 Pyruvate C3H3O3\n",
      "cpd00011_c0 CO2 CO2\n",
      "cpd00067_c0 H+ H\n",
      "cpd00008_c0 ADP C10H13N5O10P2\n"
     ]
    }
   ],
   "source": [
    "rea = refmod.reactions.rxn31646\n",
    "print rea.check_mass_balance()\n",
    "for m in rea.metabolites:\n",
    "    print m.id, m.name, m.formula"
   ]
  },
  {
   "cell_type": "code",
   "execution_count": 78,
   "metadata": {},
   "outputs": [
    {
     "name": "stdout",
     "output_type": "stream",
     "text": [
      "rxn01225_c0 : cpd00001_c0 + cpd00067_c0 + cpd00207_c0 --> cpd00013_c0 + cpd00309_c0\n",
      "H2O_c0 + H_plus__c0 + Guanine_c0 --> NH3_c0 + XAN_c0\n",
      "\n",
      "rxn01297_c0 : cpd00001_c0 + cpd00003_c0 + cpd00226_c0 <=> cpd00004_c0 + cpd00067_c0 + cpd00309_c0\n",
      "H2O_c0 + NAD_c0 + HYXN_c0 <=> NADH_c0 + H_plus__c0 + XAN_c0\n",
      "\n",
      "rxn01522_c0 : cpd00001_c0 + cpd00003_c0 + cpd00309_c0 --> cpd00004_c0 + cpd00067_c0 + cpd00300_c0\n",
      "H2O_c0 + NAD_c0 + XAN_c0 --> NADH_c0 + H_plus__c0 + Urate_c0\n",
      "\n",
      "rxn01544_c0 : cpd00103_c0 + cpd00309_c0 --> cpd00012_c0 + cpd00067_c0 + cpd00497_c0\n",
      "PRPP_c0 + XAN_c0 --> PPi_c0 + H_plus__c0 + XMP_c0\n",
      "\n",
      "rxn01545_c0 : cpd00001_c0 + cpd01217_c0 <=> cpd00105_c0 + cpd00309_c0\n",
      "H2O_c0 + Xanthosine_c0 <=> D_Ribose_c0 + XAN_c0\n",
      "\n"
     ]
    }
   ],
   "source": [
    "m = mod.metabolites.get_by_id(\"cpd00309_c0\")\n",
    "for r in m.reactions:\n",
    "    if r.id==\"bio1\": continue\n",
    "    print r.id,\":\", r.build_reaction_string(use_metabolite_names=False)\n",
    "    print r.build_reaction_string(use_metabolite_names=True) + \"\\n\""
   ]
  },
  {
   "cell_type": "code",
   "execution_count": 40,
   "metadata": {},
   "outputs": [],
   "source": [
    "from cobra.flux_analysis.loopless import add_loopless, loopless_solution\n",
    "from cobra.flux_analysis import pfba\n",
    "import pandas"
   ]
  },
  {
   "cell_type": "code",
   "execution_count": 59,
   "metadata": {},
   "outputs": [
    {
     "name": "stdout",
     "output_type": "stream",
     "text": [
      "compound not found in model: cpd10515\n",
      "compound not found in model: cpd11574\n",
      "-1.56153224243e-13 271.282955535\n"
     ]
    }
   ],
   "source": [
    "med = [\"cpd11606\", \"cpd00305\",\"cpd00048\",\"cpd00058\", \"cpd00034\", \"cpd10516\", \"cpd00254\", \"cpd00205\", \"cpd00030\", \"cpd00149\", \"cpd00099\", \"cpd00063\"]\n",
    "minmed = [\"cpd00027\", \"cpd00007\", \"cpd00001\", # glc, o2, h2o\n",
    "          \"cpd00013\", # nh3\n",
    "          # minerals\n",
    "          \"cpd00009\", \"cpd00030\", \"cpd00034\", \"cpd00058\", \"cpd00063\", \"cpd00067\", \"cpd00099\", \"cpd00205\", \"cpd00254\", \"cpd10515\", \"cpd00971\", \"cpd01012\", \"cpd10516\", \"cpd11574\"]\n",
    "\n",
    "modtmp = set_medium(modnew, minmed)\n",
    "nominal = modtmp.optimize()\n",
    "loopless = loopless_solution(modnew)\n",
    "print nominal.objective_value, loopless.fluxes[\"bio1\"]"
   ]
  },
  {
   "cell_type": "code",
   "execution_count": 48,
   "metadata": {},
   "outputs": [
    {
     "data": {
      "text/plain": [
       "<matplotlib.axes._subplots.AxesSubplot at 0x7f08b870e0d0>"
      ]
     },
     "execution_count": 48,
     "metadata": {},
     "output_type": "execute_result"
    },
    {
     "data": {
      "image/png": "[encoded data removed]",
      "text/plain": [
       "<matplotlib.figure.Figure at 0x7f08b6096cd0>"
      ]
     },
     "metadata": {},
     "output_type": "display_data"
    }
   ],
   "source": [
    "df = pandas.DataFrame(dict(loopless=loopless.fluxes, nominal=nominal.fluxes))\n",
    "df.plot.scatter(x='loopless', y='nominal')"
   ]
  }
 ],
 "metadata": {
  "kernelspec": {
   "display_name": "Python 2",
   "language": "python",
   "name": "python2"
  },
  "language_info": {
   "codemirror_mode": {
    "name": "ipython",
    "version": 2
   },
   "file_extension": ".py",
   "mimetype": "text/x-python",
   "name": "python",
   "nbconvert_exporter": "python",
   "pygments_lexer": "ipython2",
   "version": "2.7.14+"
  }
 },
 "nbformat": 4,
 "nbformat_minor": 2
}
