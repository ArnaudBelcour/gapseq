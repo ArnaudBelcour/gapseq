{
 "cells": [
  {
   "cell_type": "code",
   "execution_count": 7,
   "metadata": {},
   "outputs": [],
   "source": [
    "import pythoncyc\n",
    "from Bio import SeqIO\n",
    "from Bio.SeqRecord import SeqRecord\n",
    "from Bio.Alphabet import IUPAC\n",
    "from Bio.Seq import Seq\n",
    "from bioservices import UniProt\n",
    "import pandas\n",
    "from io import StringIO"
   ]
  },
  {
   "cell_type": "code",
   "execution_count": 9,
   "metadata": {
    "scrolled": true
   },
   "outputs": [
    {
     "ename": "PythonCycError",
     "evalue": "Pathway Tools was unable to verify if organism (orgid) META is known in your running Pathway Tools. More specifically: Failed to create a connection to a running Pathway Tools at localhost on port 5008. Make sure Pathway Tools is running with option -python. Error code: 111, error message: Connection refused",
     "output_type": "error",
     "traceback": [
      "\u001b[0;31m---------------------------------------------------------------------------\u001b[0m",
      "\u001b[0;31mPythonCycError\u001b[0m                            Traceback (most recent call last)",
      "\u001b[0;32m<ipython-input-9-9a8d2b37a322>\u001b[0m in \u001b[0;36m<module>\u001b[0;34m()\u001b[0m\n\u001b[0;32m----> 1\u001b[0;31m \u001b[0mmeta\u001b[0m \u001b[0;34m=\u001b[0m \u001b[0mpythoncyc\u001b[0m\u001b[0;34m.\u001b[0m\u001b[0mselect_organism\u001b[0m\u001b[0;34m(\u001b[0m\u001b[0;34m'META'\u001b[0m\u001b[0;34m)\u001b[0m\u001b[0;34m\u001b[0m\u001b[0m\n\u001b[0m\u001b[1;32m      2\u001b[0m \u001b[0;31m#pythoncyc.sendQueryToPTools(\"(select-organism :org-id 'META)\")\u001b[0m\u001b[0;34m\u001b[0m\u001b[0;34m\u001b[0m\u001b[0m\n\u001b[1;32m      3\u001b[0m \u001b[0;31m#pwydb = pandas.read_csv('../dat/biolog_metacyc.csv')\u001b[0m\u001b[0;34m\u001b[0m\u001b[0;34m\u001b[0m\u001b[0m\n",
      "\u001b[0;32m/usr/local/lib/python2.7/dist-packages/pythoncyc/__init__.pyc\u001b[0m in \u001b[0;36mselect_organism\u001b[0;34m(orgid)\u001b[0m\n\u001b[1;32m     50\u001b[0m        \u001b[0morgid\u001b[0m\u001b[0;34m:\u001b[0m \u001b[0mstring\u001b[0m\u001b[0;34m,\u001b[0m \u001b[0mthe\u001b[0m \u001b[0munique\u001b[0m \u001b[0morganism\u001b[0m \u001b[0mid\u001b[0m \u001b[0;32min\u001b[0m \u001b[0mPathway\u001b[0m \u001b[0mTools\u001b[0m \u001b[0;34m(\u001b[0m\u001b[0me\u001b[0m\u001b[0;34m.\u001b[0m\u001b[0mg\u001b[0m\u001b[0;34m.\u001b[0m\u001b[0;34m,\u001b[0m \u001b[0mecoli\u001b[0m\u001b[0;34m,\u001b[0m \u001b[0mmeta\u001b[0m\u001b[0;34m)\u001b[0m\u001b[0;34m.\u001b[0m\u001b[0;34m\u001b[0m\u001b[0m\n\u001b[1;32m     51\u001b[0m     \"\"\"\n\u001b[0;32m---> 52\u001b[0;31m     \u001b[0;32mreturn\u001b[0m \u001b[0mPGDB\u001b[0m\u001b[0;34m(\u001b[0m\u001b[0morgid\u001b[0m\u001b[0;34m)\u001b[0m\u001b[0;34m\u001b[0m\u001b[0m\n\u001b[0m\u001b[1;32m     53\u001b[0m \u001b[0;34m\u001b[0m\u001b[0m\n\u001b[1;32m     54\u001b[0m \u001b[0;32mdef\u001b[0m \u001b[0mso\u001b[0m\u001b[0;34m(\u001b[0m\u001b[0morgid\u001b[0m\u001b[0;34m)\u001b[0m\u001b[0;34m:\u001b[0m\u001b[0;34m\u001b[0m\u001b[0m\n",
      "\u001b[0;32m/usr/local/lib/python2.7/dist-packages/pythoncyc/PGDB.pyc\u001b[0m in \u001b[0;36m__init__\u001b[0;34m(self, orgid)\u001b[0m\n\u001b[1;32m    169\u001b[0m            \u001b[0mr\u001b[0m \u001b[0;34m=\u001b[0m \u001b[0mPTools\u001b[0m\u001b[0;34m.\u001b[0m\u001b[0msendQueryToPTools\u001b[0m\u001b[0;34m(\u001b[0m\u001b[0;34m'(orgid-exist-p \\''\u001b[0m\u001b[0;34m+\u001b[0m\u001b[0morgid\u001b[0m\u001b[0;34m+\u001b[0m\u001b[0;34m')'\u001b[0m\u001b[0;34m)\u001b[0m\u001b[0;34m\u001b[0m\u001b[0m\n\u001b[1;32m    170\u001b[0m         \u001b[0;32mexcept\u001b[0m \u001b[0mPToolsError\u001b[0m\u001b[0;34m,\u001b[0m \u001b[0mmsg\u001b[0m\u001b[0;34m:\u001b[0m\u001b[0;34m\u001b[0m\u001b[0m\n\u001b[0;32m--> 171\u001b[0;31m             \u001b[0;32mraise\u001b[0m \u001b[0mPythonCycError\u001b[0m\u001b[0;34m(\u001b[0m\u001b[0;34m'Pathway Tools was unable to verify if organism (orgid) %s is known in your running Pathway Tools. More specifically: %s'\u001b[0m \u001b[0;34m%\u001b[0m \u001b[0;34m(\u001b[0m\u001b[0morgid\u001b[0m\u001b[0;34m,\u001b[0m \u001b[0mmsg\u001b[0m\u001b[0;34m)\u001b[0m\u001b[0;34m)\u001b[0m\u001b[0;34m\u001b[0m\u001b[0m\n\u001b[0m\u001b[1;32m    172\u001b[0m         \u001b[0;32mif\u001b[0m \u001b[0;32mnot\u001b[0m \u001b[0mr\u001b[0m\u001b[0;34m:\u001b[0m\u001b[0;34m\u001b[0m\u001b[0m\n\u001b[1;32m    173\u001b[0m             \u001b[0;32mraise\u001b[0m \u001b[0mPythonCycError\u001b[0m\u001b[0;34m(\u001b[0m\u001b[0;34m\"The organism orgid %s is unknown. Use pythoncyc.all_orgids() to get a list of known orgids.\"\u001b[0m \u001b[0;34m%\u001b[0m \u001b[0morgid\u001b[0m\u001b[0;34m)\u001b[0m\u001b[0;34m\u001b[0m\u001b[0m\n",
      "\u001b[0;31mPythonCycError\u001b[0m: Pathway Tools was unable to verify if organism (orgid) META is known in your running Pathway Tools. More specifically: Failed to create a connection to a running Pathway Tools at localhost on port 5008. Make sure Pathway Tools is running with option -python. Error code: 111, error message: Connection refused"
     ]
    }
   ],
   "source": [
    "meta = pythoncyc.select_organism('meta')\n",
    "#pythoncyc.sendQueryToPTools(\"(select-organism :org-id 'META)\")\n",
    "#pwydb = pandas.read_csv('../dat/biolog_metacyc.csv')"
   ]
  },
  {
   "cell_type": "code",
   "execution_count": 4,
   "metadata": {
    "scrolled": true
   },
   "outputs": [
    {
     "data": {
      "text/plain": [
       "[u'|L-XYLULOSE-REDUCTASE-RXN|',\n",
       " u'|L-ARABINITOL-4-DEHYDROGENASE-RXN|',\n",
       " u'|RXN-8772|']"
      ]
     },
     "execution_count": 4,
     "metadata": {},
     "output_type": "execute_result"
    }
   ],
   "source": [
    "meta[\"|PWY-5515|\"][\"reaction_list\"]"
   ]
  },
  {
   "cell_type": "code",
   "execution_count": null,
   "metadata": {},
   "outputs": [],
   "source": []
  },
  {
   "cell_type": "code",
   "execution_count": 7,
   "metadata": {
    "scrolled": true
   },
   "outputs": [
    {
     "name": "stdout",
     "output_type": "stream",
     "text": [
      "('|PWY-7789|', 'Pathway does not exist')\n",
      "('|PWY-7788|', 'Pathway does not exist')\n"
     ]
    }
   ],
   "source": [
    "pwydf = pandas.DataFrame(columns=[\"ID\", \"CSource\", \"Metacyc\"])\n",
    "for index,row in pwydb.iterrows():\n",
    "    if pandas.isnull(row[\"metacyc\"]):\n",
    "        continue\n",
    "    allmetacyc = row[\"metacyc\"]\n",
    "    csource = row[\"csource\"]\n",
    "    for i,pwy in enumerate(allmetacyc.split(\";\")):\n",
    "        pwyid = csource+str(i)\n",
    "        row = pandas.DataFrame([[pwyid,csource,pwy]], columns=[\"ID\", \"CSource\", \"Metacyc\"])\n",
    "        pwydf = pwydf.append(row)\n",
    "\n",
    "# get EC numbers from metacyc db\n",
    "ec_col = [] # ec numbers\n",
    "ecu_col = [] # number of unique ec numbers (in case of multiple ec numbers for one reactions)\n",
    "rea_col = [] # reaction ids\n",
    "idx = -1\n",
    "for index,row in pwydf.iterrows(): # index not working ???? => idx workaround\n",
    "    idx += 1\n",
    "    ec_col.append(\"\")\n",
    "    rea_col.append(\"\")\n",
    "    pwy = \"|\"+row[\"Metacyc\"]+\"|\"\n",
    "    if meta[pwy] == None:\n",
    "        print(pwy, \"Pathway does not exist\")\n",
    "        continue\n",
    "    rea_list = meta[pwy][\"reaction_list\"]\n",
    "    ec_list  = []\n",
    "    reaid_list = []\n",
    "    for r in rea_list:\n",
    "        ec  = meta[r][\"ec_number\"]\n",
    "        reaid = r\n",
    "        if ec == None:\n",
    "            continue\n",
    "        ec_nr=len(ec)\n",
    "        ec = str(\",\".join(ec)).replace(\"|\",\"\").replace(\"EC-\",\"\")\n",
    "        ec_list.append(ec)\n",
    "        reaid = reaid.replace(\"|\",\"\")\n",
    "        reaid_list.append(\",\".join([reaid for i in range(0,ec_nr)]))\n",
    "    ec_col[idx] = (\",\".join(ec_list))\n",
    "    rea_col[idx]= (\",\".join(reaid_list))\n",
    "#print(ec_list)\n",
    "pwydf[\"EC\"] = ec_col\n",
    "pwydf[\"Metacyc_rea\"] = rea_col\n",
    "pwydf.to_csv(\"../dat/pwydf.csv\", sep=\"\\t\", index=False)"
   ]
  },
  {
   "cell_type": "code",
   "execution_count": 12,
   "metadata": {},
   "outputs": [
    {
     "data": {
      "text/html": [
       "<div>\n",
       "<style>\n",
       "    .dataframe thead tr:only-child th {\n",
       "        text-align: right;\n",
       "    }\n",
       "\n",
       "    .dataframe thead th {\n",
       "        text-align: left;\n",
       "    }\n",
       "\n",
       "    .dataframe tbody tr th {\n",
       "        vertical-align: top;\n",
       "    }\n",
       "</style>\n",
       "<table border=\"1\" class=\"dataframe\">\n",
       "  <thead>\n",
       "    <tr style=\"text-align: right;\">\n",
       "      <th></th>\n",
       "      <th>ID</th>\n",
       "      <th>CSource</th>\n",
       "      <th>Metacyc</th>\n",
       "      <th>EC</th>\n",
       "      <th>Metacyc_rea</th>\n",
       "    </tr>\n",
       "  </thead>\n",
       "  <tbody>\n",
       "    <tr>\n",
       "      <th>0</th>\n",
       "      <td>D-Galactose0</td>\n",
       "      <td>D-Galactose</td>\n",
       "      <td>PWY-6317</td>\n",
       "      <td>5.1.3.3,5.4.2.6,5.1.3.2,2.7.7.12,2.7.1.6</td>\n",
       "      <td>ALDOSE1EPIM-RXN,BETA-PHOSPHOGLUCOMUTASE-RXN,UD...</td>\n",
       "    </tr>\n",
       "    <tr>\n",
       "      <th>0</th>\n",
       "      <td>D-Galactose1</td>\n",
       "      <td>D-Galactose</td>\n",
       "      <td>PWY-6693</td>\n",
       "      <td>2.7.1.4,1.1.1.14,1.1.1,1.1.1,1.1.1.21</td>\n",
       "      <td>FRUCTOKINASE-RXN,RXN-7644,RXN-12080,RXN-12079,...</td>\n",
       "    </tr>\n",
       "    <tr>\n",
       "      <th>0</th>\n",
       "      <td>D-Galactose2</td>\n",
       "      <td>D-Galactose</td>\n",
       "      <td>GALDEG-PWY</td>\n",
       "      <td>3.1.1.25,1.1.1.48</td>\n",
       "      <td>GALACTONOLACTONASE-RXN,GALACTODEHYDROG-RXN</td>\n",
       "    </tr>\n",
       "    <tr>\n",
       "      <th>0</th>\n",
       "      <td>D-Galactose3</td>\n",
       "      <td>D-Galactose</td>\n",
       "      <td>PWY66-422</td>\n",
       "      <td>5.4.2.5,5.4.2.2,5.1.3.3,5.1.3.2,2.7.7.12,2.7.1.6</td>\n",
       "      <td>RXN66-532,RXN66-532,ALDOSE1EPIM-RXN,UDPGLUCEPI...</td>\n",
       "    </tr>\n",
       "    <tr>\n",
       "      <th>0</th>\n",
       "      <td>D-Galactose4</td>\n",
       "      <td>D-Galactose</td>\n",
       "      <td>PWY-3821</td>\n",
       "      <td>5.1.3.2,2.7.7.64,2.7.7.10,2.7.1.6</td>\n",
       "      <td>UDPGLUCEPIM-RXN,UTPHEXPURIDYLYLTRANS-RXN,UTPHE...</td>\n",
       "    </tr>\n",
       "  </tbody>\n",
       "</table>\n",
       "</div>"
      ],
      "text/plain": [
       "             ID      CSource     Metacyc  \\\n",
       "0  D-Galactose0  D-Galactose    PWY-6317   \n",
       "0  D-Galactose1  D-Galactose    PWY-6693   \n",
       "0  D-Galactose2  D-Galactose  GALDEG-PWY   \n",
       "0  D-Galactose3  D-Galactose   PWY66-422   \n",
       "0  D-Galactose4  D-Galactose    PWY-3821   \n",
       "\n",
       "                                                 EC  \\\n",
       "0          5.1.3.3,5.4.2.6,5.1.3.2,2.7.7.12,2.7.1.6   \n",
       "0             2.7.1.4,1.1.1.14,1.1.1,1.1.1,1.1.1.21   \n",
       "0                                 3.1.1.25,1.1.1.48   \n",
       "0  5.4.2.5,5.4.2.2,5.1.3.3,5.1.3.2,2.7.7.12,2.7.1.6   \n",
       "0                 5.1.3.2,2.7.7.64,2.7.7.10,2.7.1.6   \n",
       "\n",
       "                                         Metacyc_rea  \n",
       "0  ALDOSE1EPIM-RXN,BETA-PHOSPHOGLUCOMUTASE-RXN,UD...  \n",
       "0  FRUCTOKINASE-RXN,RXN-7644,RXN-12080,RXN-12079,...  \n",
       "0         GALACTONOLACTONASE-RXN,GALACTODEHYDROG-RXN  \n",
       "0  RXN66-532,RXN66-532,ALDOSE1EPIM-RXN,UDPGLUCEPI...  \n",
       "0  UDPGLUCEPIM-RXN,UTPHEXPURIDYLYLTRANS-RXN,UTPHE...  "
      ]
     },
     "execution_count": 12,
     "metadata": {},
     "output_type": "execute_result"
    }
   ],
   "source": [
    "pwydf.head()\n",
    "pwydf[pwydf.CSource==\"D-Galactose\"]"
   ]
  },
  {
   "cell_type": "code",
   "execution_count": 13,
   "metadata": {
    "scrolled": true
   },
   "outputs": [
    {
     "name": "stdout",
     "output_type": "stream",
     "text": [
      "('No entry found for:', 'L-Arabinose', 'PWY-7295', '4.1.2.18')\n",
      "('No entry found for:', 'D-Galactose', 'PWY66-422', '5.4.2.5')\n",
      "('No entry found for:', 'L-Rhamnose', 'PWY-6714', '1.1.1.378')\n",
      "('No entry found for:', 'L-Rhamnose', 'PWY-6713', '1.1.1.378')\n",
      "('No entry found for:', 'Sucrose', 'PWY-3801', '5.4.2.5')\n",
      "('No entry found for:', 'Sucrose', 'PWY-5384', '5.4.2.5')\n",
      "('No entry found for:', 'D-Trehalose', 'PWY-2723', '5.4.2.5')\n"
     ]
    }
   ],
   "source": [
    "u = UniProt()\n",
    "for index,row in pwydf.iterrows():\n",
    "    if row[\"EC\"]== \"\" or row[\"EC\"] == None:\n",
    "        continue\n",
    "    ec_list = row[\"EC\"].split(\",\")\n",
    "    for ec in ec_list:\n",
    "        results = u.search(ec+\"+and+reviewed:yes\", columns=\"id,entry name, protein names, sequence\", limit=10) # uniprot swissprot db (reviewed)\n",
    "        if len(results) == 0:\n",
    "            results = u.search(ec, columns=\"id,entry name, protein names, sequence\", limit=10) # uniprot trembl db (unreviewed)\n",
    "        if len(results) == 0:\n",
    "            print(\"No entry found for:\", row[\"CSource\"],row[\"Metacyc\"], ec)\n",
    "            continue\n",
    "        df = pandas.read_csv(StringIO(results), sep=\"\\t\")\n",
    "        records = []\n",
    "        for index, row2 in df.iterrows():\n",
    "            record = SeqRecord(Seq(row2['Sequence'], IUPAC.protein), id=row2['Entry'], description=row2['Protein names'])\n",
    "            records.append(record)\n",
    "        SeqIO.write(records, \"../dat/seq/\"+ec+\".fasta\", \"fasta\")"
   ]
  },
  {
   "cell_type": "code",
   "execution_count": 141,
   "metadata": {},
   "outputs": [
    {
     "name": "stdout",
     "output_type": "stream",
     "text": [
      "[u'|EC-5.4.2.6|']\n",
      "[u'|EC-2.4.1.8|']\n"
     ]
    }
   ],
   "source": [
    "meta[\"|MALTOSECAT-PWY|\"][\"reaction_list\"]\n",
    "print(meta[\"|BETA-PHOSPHOGLUCOMUTASE-RXN|\"][\"ec_number\"])\n",
    "print(meta[\"|MALTOSE-PHOSPHORYLASE-RXN|\"][\"ec_number\"])"
   ]
  },
  {
   "cell_type": "code",
   "execution_count": 142,
   "metadata": {
    "scrolled": true
   },
   "outputs": [
    {
     "data": {
      "text/html": [
       "<div>\n",
       "<style>\n",
       "    .dataframe thead tr:only-child th {\n",
       "        text-align: right;\n",
       "    }\n",
       "\n",
       "    .dataframe thead th {\n",
       "        text-align: left;\n",
       "    }\n",
       "\n",
       "    .dataframe tbody tr th {\n",
       "        vertical-align: top;\n",
       "    }\n",
       "</style>\n",
       "<table border=\"1\" class=\"dataframe\">\n",
       "  <thead>\n",
       "    <tr style=\"text-align: right;\">\n",
       "      <th></th>\n",
       "      <th>Entry</th>\n",
       "      <th>Entry name</th>\n",
       "      <th>Protein names</th>\n",
       "      <th>Sequence</th>\n",
       "    </tr>\n",
       "  </thead>\n",
       "  <tbody>\n",
       "    <tr>\n",
       "      <th>0</th>\n",
       "      <td>P71447</td>\n",
       "      <td>PGMB_LACLA</td>\n",
       "      <td>Beta-phosphoglucomutase (Beta-PGM) (EC 5.4.2.6)</td>\n",
       "      <td>MFKAVLFDLDGVITDTAEYHFRAWKALAEEIGINGVDRQFNEQLKG...</td>\n",
       "    </tr>\n",
       "    <tr>\n",
       "      <th>1</th>\n",
       "      <td>P77366</td>\n",
       "      <td>PGMB_ECOLI</td>\n",
       "      <td>Beta-phosphoglucomutase (Beta-PGM) (EC 5.4.2.6)</td>\n",
       "      <td>MKLQGVIFDLDGVITDTAHLHFQAWQQIAAEIGISIDAQFNESLKG...</td>\n",
       "    </tr>\n",
       "    <tr>\n",
       "      <th>2</th>\n",
       "      <td>O06995</td>\n",
       "      <td>PGMB_BACSU</td>\n",
       "      <td>Beta-phosphoglucomutase (Beta-PGM) (EC 5.4.2.6)</td>\n",
       "      <td>MKAVIFDLDGVITDTAEYHFLAWKHIAEQIDIPFDRDMNERLKGIS...</td>\n",
       "    </tr>\n",
       "  </tbody>\n",
       "</table>\n",
       "</div>"
      ],
      "text/plain": [
       "    Entry  Entry name                                    Protein names  \\\n",
       "0  P71447  PGMB_LACLA  Beta-phosphoglucomutase (Beta-PGM) (EC 5.4.2.6)   \n",
       "1  P77366  PGMB_ECOLI  Beta-phosphoglucomutase (Beta-PGM) (EC 5.4.2.6)   \n",
       "2  O06995  PGMB_BACSU  Beta-phosphoglucomutase (Beta-PGM) (EC 5.4.2.6)   \n",
       "\n",
       "                                            Sequence  \n",
       "0  MFKAVLFDLDGVITDTAEYHFRAWKALAEEIGINGVDRQFNEQLKG...  \n",
       "1  MKLQGVIFDLDGVITDTAHLHFQAWQQIAAEIGISIDAQFNESLKG...  \n",
       "2  MKAVIFDLDGVITDTAEYHFLAWKHIAEQIDIPFDRDMNERLKGIS...  "
      ]
     },
     "execution_count": 142,
     "metadata": {},
     "output_type": "execute_result"
    }
   ],
   "source": [
    "u = UniProt()\n",
    "results = u.search(\"5.4.2.6+and+reviewed:yes\", columns=\"id,entry name, protein names, sequence\", limit=5)\n",
    "df = pandas.read_csv(StringIO(results), sep=\"\\t\")\n",
    "df"
   ]
  }
 ],
 "metadata": {
  "kernelspec": {
   "display_name": "Python 2",
   "language": "python",
   "name": "python2"
  },
  "language_info": {
   "codemirror_mode": {
    "name": "ipython",
    "version": 2
   },
   "file_extension": ".py",
   "mimetype": "text/x-python",
   "name": "python",
   "nbconvert_exporter": "python",
   "pygments_lexer": "ipython2",
   "version": "2.7.14"
  }
 },
 "nbformat": 4,
 "nbformat_minor": 1
}
