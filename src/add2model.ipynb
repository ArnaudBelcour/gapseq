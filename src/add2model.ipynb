{
 "cells": [
  {
   "cell_type": "code",
   "execution_count": 47,
   "metadata": {
    "collapsed": false
   },
   "outputs": [
    {
     "name": "stdout",
     "output_type": "stream",
     "text": [
      "0.9.1\n"
     ]
    }
   ],
   "source": [
    "import cobra\n",
    "print(cobra.__version__)\n",
    "from cobra.io import read_sbml_model\n",
    "from cobra.flux_analysis import flux_variability_analysis\n",
    "from cobra import Model, Reaction, Metabolite\n",
    "import pandas"
   ]
  },
  {
   "cell_type": "code",
   "execution_count": 102,
   "metadata": {
    "collapsed": false
   },
   "outputs": [],
   "source": [
    "mod = read_sbml_model(\"/home/jo/uni/gapseq/dat/MYb71.xml\")\n",
    "met = \"EX_gal_LPAREN_e_RPAREN_\"\n",
    "candidate = [\n",
    "    \"r0085\", \"r0086\", \"GALM1r\",\"UDPG4E\", \"UDPGALt2g\",\"HEX7\",\"P4501B1r\", \"SBTD_D2\", \"RE1317C\",\"ALR2\", \"ALR3\",\n",
    "    \"ARABR\", \"GALOR\", \"LALDO2x\", \"PPDOx\", \"PPDOy\", \"SBTR\", \"RE1342C\", \"ABTOXy\", \"LCARRy\",\"PGMT\", \"PGMT2\",\"r0085\",\n",
    "    \"r0086\", \"GALM1r\",\"UDPG4E\", \"UDPGALt2g\",\"UDPG4E\", \"UDPGALt2g\"\n",
    "    #\"GALT\", \"GALK\"\n",
    "    ]"
   ]
  },
  {
   "cell_type": "code",
   "execution_count": 9,
   "metadata": {
    "collapsed": false,
    "scrolled": true
   },
   "outputs": [
    {
     "name": "stdout",
     "output_type": "stream",
     "text": [
      "IN FLUXES            OUT FLUXES           OBJECTIVES\n",
      "-------------------  -------------------  ------------\n",
      "csn_e         1e+03  ac_e          1e+03  biomass  235\n",
      "glyc3p_e      1e+03  co2_e         1e+03\n",
      "tre_e         1e+03  cpd00013_e    1e+03\n",
      "lac_L_e     931      h2o_e         1e+03\n",
      "cit_e       919      h_e           1e+03\n",
      "urea_e      456      succ_e        1e+03\n",
      "pro_L_e     410      ppa_e       978\n",
      "h2_e        309      ura_e       951\n",
      "cpd17041_c  235      glyc_e      935\n",
      "cpd17042_c  235      pi_e        810\n",
      "cpd17043_c  235      glcn_e      666\n",
      "gam_e       230      fum_e       636\n",
      "bhb_e       159      acgam_e     435\n",
      "man_e       153      biomass_c   235\n",
      "ser_L_e     121      for_e         2.18\n",
      "lys_L_e      72.8    no2_e         1.45\n",
      "hxan_e       71.6\n",
      "h2s_e        50.7\n",
      "cpd15605_e   36.2\n",
      "ttdca_e      35.2\n",
      "cpd15606_e   28.3\n",
      "gly_e        27.1\n",
      "ocdca_e      20\n",
      "cpd11584_e   18.6\n",
      "fe3_e         2.9\n",
      "mqn7_e        1.45\n",
      "no3_e         1.45\n",
      "ribflv_e      1.45\n",
      "thm_e         0.726\n",
      "cl_e          0.726\n",
      "cobalt2_e     0.726\n",
      "cpd00030_e    0.726\n",
      "cpd00063_e    0.726\n",
      "cu2_e         0.726\n",
      "k_e           0.726\n",
      "mg2_e         0.726\n",
      "ptrc_e        0.726\n",
      "so4_e         0.726\n",
      "spmd_e        0.726\n",
      "zn2_e         0.726\n"
     ]
    }
   ],
   "source": [
    "mod.summary()"
   ]
  },
  {
   "cell_type": "code",
   "execution_count": 60,
   "metadata": {
    "collapsed": false
   },
   "outputs": [
    {
     "data": {
      "text/html": [
       "<div>\n",
       "<style scoped>\n",
       "    .dataframe tbody tr th:only-of-type {\n",
       "        vertical-align: middle;\n",
       "    }\n",
       "\n",
       "    .dataframe tbody tr th {\n",
       "        vertical-align: top;\n",
       "    }\n",
       "\n",
       "    .dataframe thead th {\n",
       "        text-align: right;\n",
       "    }\n",
       "</style>\n",
       "<table border=\"1\" class=\"dataframe\">\n",
       "  <thead>\n",
       "    <tr style=\"text-align: right;\">\n",
       "      <th></th>\n",
       "      <th>maximum</th>\n",
       "      <th>minimum</th>\n",
       "    </tr>\n",
       "  </thead>\n",
       "  <tbody>\n",
       "    <tr>\n",
       "      <th>EX_gal_LPAREN_e_RPAREN_</th>\n",
       "      <td>0.0</td>\n",
       "      <td>0.0</td>\n",
       "    </tr>\n",
       "  </tbody>\n",
       "</table>\n",
       "</div>"
      ],
      "text/plain": [
       "                         maximum  minimum\n",
       "EX_gal_LPAREN_e_RPAREN_      0.0      0.0"
      ]
     },
     "execution_count": 60,
     "metadata": {},
     "output_type": "execute_result"
    }
   ],
   "source": [
    "#r = mod.reactions.get_by_id(met)\n",
    "r = mod.reactions.get_by_id(\"EX_gal_LPAREN_e_RPAREN_\")\n",
    "r.lower_bound\n",
    "r.upper_bound\n",
    "flux_variability_analysis(mod, [r], fraction_of_optimum=0.1)"
   ]
  },
  {
   "cell_type": "code",
   "execution_count": 32,
   "metadata": {
    "collapsed": false
   },
   "outputs": [
    {
     "data": {
      "text/html": [
       "<div>\n",
       "<style scoped>\n",
       "    .dataframe tbody tr th:only-of-type {\n",
       "        vertical-align: middle;\n",
       "    }\n",
       "\n",
       "    .dataframe tbody tr th {\n",
       "        vertical-align: top;\n",
       "    }\n",
       "\n",
       "    .dataframe thead th {\n",
       "        text-align: right;\n",
       "    }\n",
       "</style>\n",
       "<table border=\"1\" class=\"dataframe\">\n",
       "  <thead>\n",
       "    <tr style=\"text-align: right;\">\n",
       "      <th></th>\n",
       "      <th>abbreviation</th>\n",
       "      <th>addedBy</th>\n",
       "      <th>cog</th>\n",
       "      <th>csecoida</th>\n",
       "      <th>description</th>\n",
       "      <th>ecnumber</th>\n",
       "      <th>formula</th>\n",
       "      <th>keggId</th>\n",
       "      <th>keggorthology</th>\n",
       "      <th>lastModified</th>\n",
       "      <th>mcs</th>\n",
       "      <th>modifiedBy</th>\n",
       "      <th>notes</th>\n",
       "      <th>pdmapName</th>\n",
       "      <th>ref</th>\n",
       "      <th>reversible</th>\n",
       "      <th>rxn_id</th>\n",
       "      <th>subsystem</th>\n",
       "      <th>url</th>\n",
       "    </tr>\n",
       "  </thead>\n",
       "  <tbody>\n",
       "    <tr>\n",
       "      <th>0</th>\n",
       "      <td>10FTHF5GLUtl</td>\n",
       "      <td>NaN</td>\n",
       "      <td>NaN</td>\n",
       "      <td>3A0000000</td>\n",
       "      <td>5-glutamyl-10FTHF transport, lysosomal</td>\n",
       "      <td>NaN</td>\n",
       "      <td>10fthf5glu[c] -&gt; 10fthf5glu[l]</td>\n",
       "      <td>NaN</td>\n",
       "      <td>NaN</td>\n",
       "      <td>2016-11-30T10:22:57Z</td>\n",
       "      <td>2.0</td>\n",
       "      <td>NaN</td>\n",
       "      <td>carrier-mediated transport - but which and how...</td>\n",
       "      <td>NaN</td>\n",
       "      <td>PMID:11375437</td>\n",
       "      <td>0</td>\n",
       "      <td>1</td>\n",
       "      <td>Transport, lysosomal</td>\n",
       "      <td>http://vmh.uni.lu/_api/reactions/1/?format=pcsv</td>\n",
       "    </tr>\n",
       "    <tr>\n",
       "      <th>1</th>\n",
       "      <td>10FTHF5GLUtm</td>\n",
       "      <td>NaN</td>\n",
       "      <td>NaN</td>\n",
       "      <td>3A0000000</td>\n",
       "      <td>5-glutamyl-10FTHF transport, mitochondrial</td>\n",
       "      <td>NaN</td>\n",
       "      <td>10fthf5glu[m] -&gt; 10fthf5glu[c]</td>\n",
       "      <td>NaN</td>\n",
       "      <td>NaN</td>\n",
       "      <td>2016-11-30T10:22:57Z</td>\n",
       "      <td>2.0</td>\n",
       "      <td>NaN</td>\n",
       "      <td>mechanism is unknown IT</td>\n",
       "      <td>NaN</td>\n",
       "      <td>PMID:11375437</td>\n",
       "      <td>0</td>\n",
       "      <td>2</td>\n",
       "      <td>Transport, mitochondrial</td>\n",
       "      <td>http://vmh.uni.lu/_api/reactions/2/?format=pcsv</td>\n",
       "    </tr>\n",
       "    <tr>\n",
       "      <th>2</th>\n",
       "      <td>10FTHF6GLUtl</td>\n",
       "      <td>NaN</td>\n",
       "      <td>NaN</td>\n",
       "      <td>3A0000000</td>\n",
       "      <td>6-glutamyl-10FTHF transport, lysosomal</td>\n",
       "      <td>NaN</td>\n",
       "      <td>10fthf6glu[c] -&gt; 10fthf6glu[l]</td>\n",
       "      <td>NaN</td>\n",
       "      <td>NaN</td>\n",
       "      <td>2016-11-30T10:22:57Z</td>\n",
       "      <td>2.0</td>\n",
       "      <td>NaN</td>\n",
       "      <td>carrier-mediated transport - but which and how...</td>\n",
       "      <td>NaN</td>\n",
       "      <td>PMID:11375437</td>\n",
       "      <td>0</td>\n",
       "      <td>3</td>\n",
       "      <td>Transport, lysosomal</td>\n",
       "      <td>http://vmh.uni.lu/_api/reactions/3/?format=pcsv</td>\n",
       "    </tr>\n",
       "    <tr>\n",
       "      <th>3</th>\n",
       "      <td>10FTHF6GLUtm</td>\n",
       "      <td>NaN</td>\n",
       "      <td>NaN</td>\n",
       "      <td>3A0000000</td>\n",
       "      <td>6-glutamyl-10FTHF transport, mitochondrial</td>\n",
       "      <td>NaN</td>\n",
       "      <td>10fthf6glu[m] -&gt; 10fthf6glu[c]</td>\n",
       "      <td>NaN</td>\n",
       "      <td>NaN</td>\n",
       "      <td>2016-11-30T10:22:57Z</td>\n",
       "      <td>2.0</td>\n",
       "      <td>NaN</td>\n",
       "      <td>mechanism is unknown IT</td>\n",
       "      <td>NaN</td>\n",
       "      <td>PMID:11375437</td>\n",
       "      <td>0</td>\n",
       "      <td>4</td>\n",
       "      <td>Transport, mitochondrial</td>\n",
       "      <td>http://vmh.uni.lu/_api/reactions/4/?format=pcsv</td>\n",
       "    </tr>\n",
       "    <tr>\n",
       "      <th>4</th>\n",
       "      <td>10FTHF7GLUtl</td>\n",
       "      <td>NaN</td>\n",
       "      <td>NaN</td>\n",
       "      <td>3A0000000</td>\n",
       "      <td>7-glutamyl-10FTHF transport, lysosomal</td>\n",
       "      <td>NaN</td>\n",
       "      <td>10fthf7glu[c] -&gt; 10fthf7glu[l]</td>\n",
       "      <td>NaN</td>\n",
       "      <td>NaN</td>\n",
       "      <td>2016-11-30T10:22:57Z</td>\n",
       "      <td>2.0</td>\n",
       "      <td>NaN</td>\n",
       "      <td>carrier-mediated transport - but which and how...</td>\n",
       "      <td>NaN</td>\n",
       "      <td>PMID:11375437</td>\n",
       "      <td>0</td>\n",
       "      <td>5</td>\n",
       "      <td>Transport, lysosomal</td>\n",
       "      <td>http://vmh.uni.lu/_api/reactions/5/?format=pcsv</td>\n",
       "    </tr>\n",
       "  </tbody>\n",
       "</table>\n",
       "</div>"
      ],
      "text/plain": [
       "   abbreviation  addedBy  cog   csecoida  \\\n",
       "0  10FTHF5GLUtl      NaN  NaN  3A0000000   \n",
       "1  10FTHF5GLUtm      NaN  NaN  3A0000000   \n",
       "2  10FTHF6GLUtl      NaN  NaN  3A0000000   \n",
       "3  10FTHF6GLUtm      NaN  NaN  3A0000000   \n",
       "4  10FTHF7GLUtl      NaN  NaN  3A0000000   \n",
       "\n",
       "                                  description ecnumber  \\\n",
       "0      5-glutamyl-10FTHF transport, lysosomal      NaN   \n",
       "1  5-glutamyl-10FTHF transport, mitochondrial      NaN   \n",
       "2      6-glutamyl-10FTHF transport, lysosomal      NaN   \n",
       "3  6-glutamyl-10FTHF transport, mitochondrial      NaN   \n",
       "4      7-glutamyl-10FTHF transport, lysosomal      NaN   \n",
       "\n",
       "                           formula keggId keggorthology          lastModified  \\\n",
       "0  10fthf5glu[c] -> 10fthf5glu[l]     NaN           NaN  2016-11-30T10:22:57Z   \n",
       "1  10fthf5glu[m] -> 10fthf5glu[c]     NaN           NaN  2016-11-30T10:22:57Z   \n",
       "2  10fthf6glu[c] -> 10fthf6glu[l]     NaN           NaN  2016-11-30T10:22:57Z   \n",
       "3  10fthf6glu[m] -> 10fthf6glu[c]     NaN           NaN  2016-11-30T10:22:57Z   \n",
       "4  10fthf7glu[c] -> 10fthf7glu[l]     NaN           NaN  2016-11-30T10:22:57Z   \n",
       "\n",
       "   mcs  modifiedBy                                              notes  \\\n",
       "0  2.0         NaN  carrier-mediated transport - but which and how...   \n",
       "1  2.0         NaN                            mechanism is unknown IT   \n",
       "2  2.0         NaN  carrier-mediated transport - but which and how...   \n",
       "3  2.0         NaN                            mechanism is unknown IT   \n",
       "4  2.0         NaN  carrier-mediated transport - but which and how...   \n",
       "\n",
       "  pdmapName            ref  reversible  rxn_id                 subsystem  \\\n",
       "0       NaN  PMID:11375437           0       1      Transport, lysosomal   \n",
       "1       NaN  PMID:11375437           0       2  Transport, mitochondrial   \n",
       "2       NaN  PMID:11375437           0       3      Transport, lysosomal   \n",
       "3       NaN  PMID:11375437           0       4  Transport, mitochondrial   \n",
       "4       NaN  PMID:11375437           0       5      Transport, lysosomal   \n",
       "\n",
       "                                               url  \n",
       "0  http://vmh.uni.lu/_api/reactions/1/?format=pcsv  \n",
       "1  http://vmh.uni.lu/_api/reactions/2/?format=pcsv  \n",
       "2  http://vmh.uni.lu/_api/reactions/3/?format=pcsv  \n",
       "3  http://vmh.uni.lu/_api/reactions/4/?format=pcsv  \n",
       "4  http://vmh.uni.lu/_api/reactions/5/?format=pcsv  "
      ]
     },
     "execution_count": 32,
     "metadata": {},
     "output_type": "execute_result"
    }
   ],
   "source": [
    "vmhdb = pandas.read_csv('/home/jo/uni/gapseq/dat/vmh_reactions.csv')\n",
    "vmhdb.head()"
   ]
  },
  {
   "cell_type": "code",
   "execution_count": 103,
   "metadata": {
    "collapsed": false,
    "scrolled": true
   },
   "outputs": [
    {
     "name": "stdout",
     "output_type": "stream",
     "text": [
      "unknown metabolite 'HC00591_c' created\n",
      "unknown metabolite 'nh4_c' created\n",
      "unknown metabolite 'h2o_m' created\n",
      "unknown metabolite 'HC00591_m' created\n",
      "unknown metabolite 'nh4_m' created\n",
      "unknown metabolite 'akg_m' created\n",
      "unknown metabolite 'glc_bD_c' created\n",
      "unknown metabolite 'udpgal_g' created\n",
      "unknown metabolite 'o2_r' created\n",
      "unknown metabolite 'h_r' created\n",
      "unknown metabolite 'nadph_r' created\n",
      "unknown metabolite 'estradiol_r' created\n",
      "unknown metabolite 'h2o_r' created\n",
      "unknown metabolite 'nadp_r' created\n",
      "unknown metabolite 'hestratriol_r' created\n",
      "unknown metabolite 'C01507_c' created\n",
      "unknown metabolite 'srb_L_c' created\n",
      "unknown metabolite 'acetol_c' created\n",
      "unknown metabolite '12ppd_S_c' created\n",
      "unknown metabolite 'galt_c' created\n",
      "unknown metabolite '12ppd_R_c' created\n",
      "unknown metabolite 'g1p_B_c' created\n",
      "r0085 already exists\n",
      "r0086 already exists\n",
      "GALM1r already exists\n",
      "UDPG4E already exists\n",
      "UDPGALt2g already exists\n",
      "UDPG4E already exists\n",
      "UDPGALt2g already exists\n"
     ]
    }
   ],
   "source": [
    "newmod = mod.copy()\n",
    "for rid in candidate:\n",
    "    if rid not in newmod.reactions:\n",
    "        #print(rid)\n",
    "        hit = vmhdb[vmhdb.abbreviation==rid]\n",
    "        #print(hit.formula.iloc[0])\n",
    "        r = Reaction(rid)\n",
    "        formula = hit.formula.iloc[0].replace(\"]\",\"\").replace(\"[\",\"_\")\n",
    "        #print(formula)\n",
    "        newmod.add_reaction(r)\n",
    "        r.build_reaction_from_string(formula)\n",
    "    else:\n",
    "        print(rid, \"already exists\")"
   ]
  },
  {
   "cell_type": "code",
   "execution_count": 109,
   "metadata": {
    "collapsed": false,
    "scrolled": true
   },
   "outputs": [
    {
     "data": {
      "text/plain": [
       "frozenset({<Reaction GALOR at 0x7fbfaaf4ff60>})"
      ]
     },
     "execution_count": 109,
     "metadata": {},
     "output_type": "execute_result"
    }
   ],
   "source": [
    "newmod.metabolites.gal_c.reactions\n",
    "newmod.reactions.GALOR.build_reaction_string()\n",
    "newmod.metabolites.galt_c.reactions"
   ]
  },
  {
   "cell_type": "code",
   "execution_count": 104,
   "metadata": {
    "collapsed": false
   },
   "outputs": [
    {
     "data": {
      "text/html": [
       "<div>\n",
       "<style scoped>\n",
       "    .dataframe tbody tr th:only-of-type {\n",
       "        vertical-align: middle;\n",
       "    }\n",
       "\n",
       "    .dataframe tbody tr th {\n",
       "        vertical-align: top;\n",
       "    }\n",
       "\n",
       "    .dataframe thead th {\n",
       "        text-align: right;\n",
       "    }\n",
       "</style>\n",
       "<table border=\"1\" class=\"dataframe\">\n",
       "  <thead>\n",
       "    <tr style=\"text-align: right;\">\n",
       "      <th></th>\n",
       "      <th>maximum</th>\n",
       "      <th>minimum</th>\n",
       "    </tr>\n",
       "  </thead>\n",
       "  <tbody>\n",
       "    <tr>\n",
       "      <th>EX_gal_LPAREN_e_RPAREN_</th>\n",
       "      <td>0.0</td>\n",
       "      <td>0.0</td>\n",
       "    </tr>\n",
       "  </tbody>\n",
       "</table>\n",
       "</div>"
      ],
      "text/plain": [
       "                         maximum  minimum\n",
       "EX_gal_LPAREN_e_RPAREN_      0.0      0.0"
      ]
     },
     "execution_count": 104,
     "metadata": {},
     "output_type": "execute_result"
    }
   ],
   "source": [
    "r = newmod.reactions.get_by_id(\"EX_gal_LPAREN_e_RPAREN_\")\n",
    "r.lower_bound\n",
    "r.upper_bound\n",
    "flux_variability_analysis(newmod, [r], fraction_of_optimum=0.1)"
   ]
  }
 ],
 "metadata": {
  "kernelspec": {
   "display_name": "Python 3",
   "language": "python",
   "name": "python3"
  },
  "language_info": {
   "codemirror_mode": {
    "name": "ipython",
    "version": 3
   },
   "file_extension": ".py",
   "mimetype": "text/x-python",
   "name": "python",
   "nbconvert_exporter": "python",
   "pygments_lexer": "ipython3",
   "version": "3.5.4"
  }
 },
 "nbformat": 4,
 "nbformat_minor": 1
}
